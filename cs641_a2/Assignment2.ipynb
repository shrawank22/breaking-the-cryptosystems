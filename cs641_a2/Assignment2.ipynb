{
 "cells": [
  {
   "cell_type": "code",
   "execution_count": 1,
   "id": "b7b43dcb",
   "metadata": {},
   "outputs": [],
   "source": [
    "def generateKey(string, key):\n",
    "    key = list(key)\n",
    "    if len(string) == len(key):\n",
    "        return(key)\n",
    "    else:\n",
    "        for i in range(len(string) -\n",
    "                       len(key)):\n",
    "            key.append(key[i % len(key)])\n",
    "    return(\"\" . join(key))"
   ]
  },
  {
   "cell_type": "code",
   "execution_count": 2,
   "id": "0674ea7b",
   "metadata": {},
   "outputs": [],
   "source": [
    "def decryptedText(cipher_text, key):\n",
    "    orig_text = []\n",
    "    for i in range(len(cipher_text)):\n",
    "        x = (ord(cipher_text[i]) - ord(key[i]) + 26) % 26\n",
    "        x += ord('A')\n",
    "        orig_text.append(chr(x))\n",
    "    return(\"\" . join(orig_text))"
   ]
  },
  {
   "cell_type": "code",
   "execution_count": 3,
   "id": "53904e9d",
   "metadata": {},
   "outputs": [
    {
     "name": "stdout",
     "output_type": "stream",
     "text": [
      "Decrypted Text : BEWARYOFTHENEXTCHAMBERTHEREISVERYLITTLEJOYTHERESPEAKOUTTHEPASSWORDTHECAVEMANBEPLEASEDTOGOTHROUGHMAYYOUHAVETHESTRENGTHFORTHENEXTCHAMBERTOFINDTHEEXITYOUFIRSTWILLNEEDTOUTTERMAGICWORDSTHERE\n"
     ]
    }
   ],
   "source": [
    "encrypted_text ='''Kg fcwd qh vin pnzy hjcocnt, cjjwg ku wnth nnyvng kxa cjjwg.Urfjm xwy yjg rbbufqwi \"vjg_djxn_ofs_dg_rmncbgi\" yq iq uqtxwlm. Oca zxw qcaj vjg tctnplyj hqs cjn pjcv ejbvdnt. Yt hkpe cjn gcnv, aqv okauy bknn ongm vt zvvgs vcpkh bqtft cjntj.'''\n",
    "#     9 2 9 2 5 5 2 2 2 1\n",
    "\n",
    "#Removing all thins other than only letters\n",
    "encrypted_text = encrypted_text.upper()\n",
    "encrypted_text = encrypted_text.replace(\" \", \"\")\n",
    "encrypted_text = encrypted_text.replace(\".\", \"\")\n",
    "encrypted_text = encrypted_text.replace(\",\", \"\")\n",
    "encrypted_text = encrypted_text.replace('''\"''', \"\")\n",
    "encrypted_text = encrypted_text.replace(\"_\", \"\")\n",
    "keyword = \"JCJCFFCCCB\"\n",
    "key = generateKey(encrypted_text, keyword)\n",
    "print(\"Decrypted Text :\", decryptedText(encrypted_text, key))"
   ]
  },
  {
   "cell_type": "code",
   "execution_count": null,
   "id": "4bfd0427",
   "metadata": {},
   "outputs": [],
   "source": []
  }
 ],
 "metadata": {
  "kernelspec": {
   "display_name": "Python 3",
   "language": "python",
   "name": "python3"
  },
  "language_info": {
   "codemirror_mode": {
    "name": "ipython",
    "version": 3
   },
   "file_extension": ".py",
   "mimetype": "text/x-python",
   "name": "python",
   "nbconvert_exporter": "python",
   "pygments_lexer": "ipython3",
   "version": "3.8.8"
  }
 },
 "nbformat": 4,
 "nbformat_minor": 5
}
