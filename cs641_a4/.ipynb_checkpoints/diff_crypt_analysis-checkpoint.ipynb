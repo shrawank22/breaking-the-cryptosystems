{
 "cells": [
  {
   "cell_type": "code",
   "execution_count": 1,
   "id": "df6803b0",
   "metadata": {},
   "outputs": [],
   "source": [
    "import operator"
   ]
  },
  {
   "cell_type": "code",
   "execution_count": 2,
   "id": "f8df1661",
   "metadata": {},
   "outputs": [],
   "source": [
    "#Permutation matrix 1 for key schedule\n",
    "pc1 = [                  \n",
    "  57, 49, 41, 33, 25, 17, 9,\n",
    "  1, 58, 50, 42, 34, 26, 18,\n",
    "  10,  2, 59, 51, 43, 35, 27,\n",
    "  19, 11,  3, 60, 52, 44, 36,\n",
    "  63, 55, 47, 39, 31, 23, 15, \n",
    "  7, 62, 54, 46, 38, 30, 22, \n",
    "  14,  6, 61, 53, 45, 37, 29, \n",
    "  21, 13,  5, 28, 20, 12,  4\n",
    "]"
   ]
  },
  {
   "cell_type": "code",
   "execution_count": 3,
   "id": "0e72fc44",
   "metadata": {},
   "outputs": [],
   "source": [
    "#Permutation matrix 2 for key schedule\n",
    "pc2 = [                 \n",
    "  14, 17, 11, 24,  1, 5, \n",
    "  3, 28 ,15,  6, 21, 10, \n",
    "  23, 19, 12,  4, 26, 8, \n",
    "  16,  7, 27, 20, 13, 2, \n",
    "  41, 52, 31, 37, 47, 55, \n",
    "  30, 40, 51, 45, 33, 48, \n",
    "  44, 49, 39, 56, 34, 53, \n",
    "  46, 42, 50, 36, 29, 32\n",
    "]"
   ]
  },
  {
   "cell_type": "code",
   "execution_count": 4,
   "id": "2faa7e23",
   "metadata": {},
   "outputs": [],
   "source": [
    "#Inverse of P\n",
    "INV_P = [\n",
    "    9, 17, 23, 31,\n",
    "    13, 28,  2, 18,\n",
    "    24, 16, 30,  6,\n",
    "    26, 20, 10,  1,\n",
    "    8, 14, 25,  3,\n",
    "    4, 29, 11, 19,\n",
    "    32, 12, 22,  7,\n",
    "    5, 27, 15, 21\n",
    "]"
   ]
  },
  {
   "cell_type": "code",
   "execution_count": 5,
   "id": "86d439c8",
   "metadata": {},
   "outputs": [],
   "source": [
    "# Table of Position of 64 bits at initail level: Initial Permutation Table \n",
    "initial_perm = [\n",
    "    58, 50, 42, 34, 26, 18, 10, 2,  \n",
    "    60, 52, 44, 36, 28, 20, 12, 4,  \n",
    "    62, 54, 46, 38, 30, 22, 14, 6,  \n",
    "    64, 56, 48, 40, 32, 24, 16, 8,  \n",
    "    57, 49, 41, 33, 25, 17, 9, 1,  \n",
    "    59, 51, 43, 35, 27, 19, 11, 3,  \n",
    "    61, 53, 45, 37, 29, 21, 13, 5,  \n",
    "    63, 55, 47, 39, 31, 23, 15, 7\n",
    "]  "
   ]
  },
  {
   "cell_type": "code",
   "execution_count": 6,
   "id": "6ea5bf80",
   "metadata": {},
   "outputs": [],
   "source": [
    "# Expansion E-box Table \n",
    "exp_d = [\n",
    "    32, 1 , 2 , 3 , 4 , 5 , 4 , 5,  \n",
    "    6 , 7 , 8 , 9 , 8 , 9 , 10, 11,  \n",
    "    12, 13, 12, 13, 14, 15, 16, 17,  \n",
    "    16, 17, 18, 19, 20, 21, 20, 21,  \n",
    "    22, 23, 24, 25, 24, 25, 26, 27,  \n",
    "    28, 29, 28, 29, 30, 31, 32, 1 \n",
    "] "
   ]
  },
  {
   "cell_type": "code",
   "execution_count": 7,
   "id": "200c0689",
   "metadata": {},
   "outputs": [],
   "source": [
    "# Straight Permutaion Table \n",
    "per = [ \n",
    "    16,  7, 20, 21, \n",
    "    29, 12, 28, 17,  \n",
    "    1, 15, 23, 26,  \n",
    "    5, 18, 31, 10,  \n",
    "    2,  8, 24, 14,  \n",
    "    32, 27,  3,  9,  \n",
    "    19, 13, 30,  6,  \n",
    "    22, 11,  4, 25 \n",
    "] "
   ]
  },
  {
   "cell_type": "code",
   "execution_count": 8,
   "id": "a593008d",
   "metadata": {},
   "outputs": [],
   "source": [
    "# S-box Table \n",
    "sbox = [\n",
    "    [\n",
    "        [14, 4, 13, 1, 2, 15, 11, 8, 3 , 10, 6, 12, 5, 9, 0, 7],\n",
    "        [0, 15, 7, 4, 14, 2, 13, 1, 10, 6, 12, 11, 9, 5, 3, 8],\n",
    "        [4, 1 , 14, 8, 13, 6, 2, 11, 15, 12, 9, 7,3, 10, 5, 0],\n",
    "        [15, 12, 8,2,4, 9, 1,7 , 5, 11, 3, 14, 10, 0, 6, 13]\n",
    "    ],\n",
    "    [\n",
    "        [15, 1, 8, 14, 6, 11, 3, 4, 9, 7, 2, 13, 12, 0,5, 10],\n",
    "        [3, 13, 4, 7, 15, 2, 8, 14, 12, 0, 1, 10, 6, 9, 11, 5],\n",
    "        [0, 14, 7, 11, 10, 4, 13, 1, 5, 8,12, 6, 9, 3, 2, 15],\n",
    "        [13, 8, 10, 1, 3, 15, 4, 2,11,6, 7, 12, 0,5, 14, 9]\n",
    "    ],\n",
    "    [\n",
    "        [10, 0, 9,14,6,3,15,5, 1, 13, 12, 7, 11, 4,2,8],\n",
    "        [13, 7, 0, 9, 3, 4, 6, 10, 2, 8, 5, 14, 12, 11, 15, 1],\n",
    "        [13, 6, 4, 9, 8, 15, 3, 0, 11, 1, 2, 12,5, 10, 14, 7],\n",
    "        [1, 10, 13, 0, 6, 9, 8, 7, 4, 15, 14, 3, 11, 5, 2, 12]\n",
    "    ],\n",
    "    [\n",
    "        [7, 13, 14, 3, 0, 6, 9, 10, 1, 2, 8, 5, 11, 12, 4, 15],\n",
    "        [13, 8, 11, 5, 6, 15, 0, 3, 4, 7, 2, 12, 1, 10, 14, 9],\n",
    "        [10, 6, 9, 0, 12, 11, 7, 13, 15, 1 , 3, 14, 5, 2, 8, 4],\n",
    "        [3, 15, 0, 6, 10, 1, 13, 8, 9, 4, 5, 11, 12, 7, 2, 14]\n",
    "    ],\n",
    "    [\n",
    "        [2, 12, 4, 1, 7, 10, 11, 6, 8, 5, 3, 15, 13, 0, 14, 9],\n",
    "        [14, 11,2, 12, 4, 7, 13, 1, 5, 0, 15, 10, 3, 9, 8, 6],\n",
    "        [4, 2, 1, 11, 10, 13, 7, 8, 15, 9, 12, 5, 6, 3, 0, 14],\n",
    "        [11, 8, 12, 7, 1, 14, 2, 13, 6, 15, 0, 9, 10, 4, 5, 3]\n",
    "    ],\n",
    "    [\n",
    "        [12, 1, 10, 15, 9, 2, 6,8, 0, 13, 3, 4, 14, 7, 5, 11],\n",
    "        [10, 15, 4, 2, 7, 12, 9, 5, 6, 1, 13, 14, 0, 11, 3, 8],\n",
    "        [9, 14, 15, 5, 2,8, 12, 3, 7, 0, 4, 10, 1, 13, 11, 6],\n",
    "        [4, 3, 2, 12, 9, 5, 15, 10, 11, 14, 1, 7, 6, 0, 8, 13]\n",
    "    ],\n",
    "    [\n",
    "        [4, 11, 2, 14, 15, 0, 8, 13, 3, 12, 9, 7, 5, 10, 6, 1],\n",
    "        [13, 0, 11, 7, 4, 9, 1, 10, 14, 3, 5, 12, 2, 15, 8, 6],\n",
    "        [1, 4, 11, 13, 12, 3, 7, 14, 10, 15, 6, 8, 0, 5, 9, 2],\n",
    "        [6, 11, 13, 8, 1, 4, 10, 7, 9, 5, 0, 15, 14, 2, 3, 12]\n",
    "    ],\n",
    "    [\n",
    "        [13, 2, 8, 4, 6, 15, 11, 1, 10, 9, 3, 14, 5, 0, 12,7],\n",
    "        [1, 15, 13, 8, 10, 3, 7, 4, 12, 5, 6, 11, 0, 14, 9, 2],\n",
    "        [7, 11, 4, 1, 9, 12, 14, 2, 0, 6, 10, 13, 15, 3, 5, 8],\n",
    "        [2, 1, 14, 7, 4, 10, 8, 13, 15, 12, 9, 0, 3, 5, 6, 11]]\n",
    "] "
   ]
  },
  {
   "cell_type": "code",
   "execution_count": 9,
   "id": "93969401",
   "metadata": {},
   "outputs": [],
   "source": [
    "# parity bit drop table \n",
    "keyp = [\n",
    "    57, 49, 41, 33, 25, 17, 9,  \n",
    "    1, 58, 50, 42, 34, 26, 18,  \n",
    "    10, 2, 59, 51, 43, 35, 27,  \n",
    "    19, 11, 3, 60, 52, 44, 36,  \n",
    "    63, 55, 47, 39, 31, 23, 15,  \n",
    "    7, 62, 54, 46, 38, 30, 22,  \n",
    "    14, 6, 61, 53, 45, 37, 29,  \n",
    "    21, 13, 5, 28, 20, 12, 4 \n",
    "] "
   ]
  },
  {
   "cell_type": "code",
   "execution_count": 10,
   "id": "c3423679",
   "metadata": {},
   "outputs": [],
   "source": [
    "# Final permutation\n",
    "final_perm = [ \n",
    "    40, 8, 48, 16, 56, 24, 64, 32,  \n",
    "    39, 7, 47, 15, 55, 23, 63, 31,  \n",
    "    38, 6, 46, 14, 54, 22, 62, 30,  \n",
    "    37, 5, 45, 13, 53, 21, 61, 29,  \n",
    "    36, 4, 44, 12, 52, 20, 60, 28,  \n",
    "    35, 3, 43, 11, 51, 19, 59, 27,  \n",
    "    34, 2, 42, 10, 50, 18, 58, 26,  \n",
    "    33, 1, 41, 9, 49, 17, 57, 25 \n",
    "] "
   ]
  },
  {
   "cell_type": "code",
   "execution_count": 11,
   "id": "c52365e0",
   "metadata": {},
   "outputs": [],
   "source": [
    "# \n",
    "RFP = [\n",
    "    57, 49, 41, 33, 25, 17, 9,  1,\n",
    "    59, 51, 43, 35, 27, 19, 11, 3,\n",
    "    61, 53, 45, 37, 29, 21, 13, 5,\n",
    "    63, 55, 47, 39, 31, 23, 15, 7,\n",
    "    58, 50, 42, 34, 26, 18, 10, 2,\n",
    "    60, 52, 44, 36, 28, 20, 12, 4,\n",
    "    62, 54, 46, 38, 30, 22, 14, 6,\n",
    "    64, 56, 48, 40, 32, 24, 16, 8\n",
    "]"
   ]
  },
  {
   "cell_type": "code",
   "execution_count": 12,
   "id": "e5461142",
   "metadata": {},
   "outputs": [],
   "source": [
    "#shift table \n",
    "shift_table = [\n",
    "    1, 1, 2, 2,  \n",
    "    2, 2, 2, 2,  \n",
    "    1, 2, 2, 2,  \n",
    "    2, 2, 2, 1\n",
    "] "
   ]
  },
  {
   "cell_type": "code",
   "execution_count": 13,
   "id": "f8ce84aa",
   "metadata": {},
   "outputs": [],
   "source": [
    "# Key- Compression Table : Compression of key from 56 bits to 48 bits \n",
    "key_comp = [\n",
    "    14, 17, 11, 24, 1, 5,  \n",
    "    3, 28, 15, 6, 21, 10,  \n",
    "    23, 19, 12, 4, 26, 8,  \n",
    "    16, 7, 27, 20, 13, 2,  \n",
    "    41, 52, 31, 37, 47, 55,  \n",
    "    30, 40, 51, 45, 33, 48,  \n",
    "    44, 49, 39, 56, 34, 53,  \n",
    "    46, 42, 50, 36, 29, 32 \n",
    "] "
   ]
  },
  {
   "cell_type": "code",
   "execution_count": 14,
   "id": "14b10735",
   "metadata": {},
   "outputs": [],
   "source": [
    "# mapping by observing ciphertexts corresponding to some plaintexts\n",
    "f2u_mapping = {\n",
    "    'f' : '0000',\n",
    "    'g' : '0001',\n",
    "    'h' : '0010',\n",
    "    'i' : '0011',\n",
    "    'j' : '0100',\n",
    "    'k' : '0101',\n",
    "    'l' : '0110',\n",
    "    'm' : '0111',\n",
    "    'n' : '1000',\n",
    "    'o' : '1001',\n",
    "    'p' : '1010',\n",
    "    'q' : '1011',\n",
    "    'r' : '1100',\n",
    "    's' : '1101',\n",
    "    't' : '1110',\n",
    "    'u' : '1111'\n",
    "}     "
   ]
  },
  {
   "cell_type": "code",
   "execution_count": 15,
   "id": "b461bb18",
   "metadata": {},
   "outputs": [],
   "source": [
    "# Binary to hexadecimal conversion \n",
    "def bin2hex(s): \n",
    "    mp = {\"0000\" : '0',  \n",
    "          \"0001\" : '1', \n",
    "          \"0010\" : '2',  \n",
    "          \"0011\" : '3', \n",
    "          \"0100\" : '4', \n",
    "          \"0101\" : '5',  \n",
    "          \"0110\" : '6', \n",
    "          \"0111\" : '7',  \n",
    "          \"1000\" : '8', \n",
    "          \"1001\" : '9',  \n",
    "          \"1010\" : 'A', \n",
    "          \"1011\" : 'B',  \n",
    "          \"1100\" : 'C', \n",
    "          \"1101\" : 'D',  \n",
    "          \"1110\" : 'E', \n",
    "          \"1111\" : 'F' } \n",
    "    hex = \"\" \n",
    "    n1= len(s)\n",
    "    for i in range(0,n1,4): \n",
    "        ch = \"\" \n",
    "        ch = ch + s[i] \n",
    "        ch = ch + s[i + 1]  \n",
    "        ch = ch + s[i + 2]  \n",
    "        ch = ch + s[i + 3]  \n",
    "        hex+=mp[ch] \n",
    "          \n",
    "    return hex\n",
    "  "
   ]
  },
  {
   "cell_type": "code",
   "execution_count": 16,
   "id": "ce0fac1e",
   "metadata": {},
   "outputs": [],
   "source": [
    "# Binary to decimal conversion \n",
    "def bin2dec(binary):  \n",
    "        \n",
    "    binary1 = binary  \n",
    "    decimal, i, n = 0, 0, 0\n",
    "    while(binary != 0):  \n",
    "        dec = binary % 10\n",
    "        decimal = decimal + dec * pow(2, i)  \n",
    "        binary = binary//10\n",
    "        i += 1\n",
    "    return decimal \n",
    "  "
   ]
  },
  {
   "cell_type": "code",
   "execution_count": 17,
   "id": "25815766",
   "metadata": {},
   "outputs": [],
   "source": [
    "# Decimal to binary conversion \n",
    "def dec2bin(num):  \n",
    "    res = bin(num).replace(\"0b\", \"\") \n",
    "    if(len(res)%4 != 0): \n",
    "        div = len(res) / 4\n",
    "        div = int(div) \n",
    "        counter =(4 * (div + 1)) - len(res)  \n",
    "        for i in range(0, counter): \n",
    "            res = '0' + res \n",
    "    return res \n",
    "  "
   ]
  },
  {
   "cell_type": "code",
   "execution_count": 18,
   "id": "ae61815b",
   "metadata": {},
   "outputs": [],
   "source": [
    "# Permute function to rearrange the bits \n",
    "def permute(k, arr, n): \n",
    "    permutation = \"\" \n",
    "    for i in range(0, n): \n",
    "        permutation = permutation + k[arr[i] - 1] \n",
    "    return permutation \n",
    "  \n",
    "# shifting the bits towards left by nth shifts \n",
    "def shift_left(k, nth_shifts): \n",
    "    s = \"\" \n",
    "    for i in range(nth_shifts):\n",
    "        n2 = len(k)\n",
    "        for j in range(1,n2): \n",
    "            s+= k[j] \n",
    "        s+= k[0] \n",
    "        k = s \n",
    "        s = \"\"  \n",
    "    return k     \n",
    "  "
   ]
  },
  {
   "cell_type": "code",
   "execution_count": 19,
   "id": "769af6f1",
   "metadata": {},
   "outputs": [],
   "source": [
    "# calculating xor of two strings of binary number a and b \n",
    "def xor(a, b): \n",
    "    ans = \"\"\n",
    "    n2 = len(a)\n",
    "    for i in range(0,n2): \n",
    "        if a[i] == b[i]: \n",
    "            ans+=\"0\"\n",
    "        else: \n",
    "            ans+=\"1\"\n",
    "    return ans "
   ]
  },
  {
   "cell_type": "markdown",
   "id": "9e5d4084",
   "metadata": {},
   "source": [
    "## Computing XORs at IN and OUT of S-boxes for characteristic 1"
   ]
  },
  {
   "cell_type": "code",
   "execution_count": 20,
   "id": "293067a9",
   "metadata": {},
   "outputs": [],
   "source": [
    "import numpy as np"
   ]
  },
  {
   "cell_type": "code",
   "execution_count": 21,
   "id": "3cfac15d",
   "metadata": {},
   "outputs": [],
   "source": [
    "#create hex mapping of 16 letters present in ciphertext. f=0, g=1 ,so on...\n",
    "mapping = {\n",
    "           'f' : [0,0,0,0],\n",
    "           'g' : [0,0,0,1],\n",
    "           'h' : [0,0,1,0],\n",
    "           'i' : [0,0,1,1],\n",
    "           'j' : [0,1,0,0],\n",
    "           'k' : [0,1,0,1],\n",
    "           'l' : [0,1,1,0],\n",
    "           'm' : [0,1,1,1],\n",
    "           'n' : [1,0,0,0],\n",
    "           'o' : [1,0,0,1],\n",
    "           'p' : [1,0,1,0],\n",
    "           'q' : [1,0,1,1],\n",
    "           'r' : [1,1,0,0],\n",
    "           's' : [1,1,0,1],\n",
    "           't' : [1,1,1,0],\n",
    "           'u' : [1,1,1,1]\n",
    "           }"
   ]
  },
  {
   "cell_type": "code",
   "execution_count": 22,
   "id": "2b930f9f",
   "metadata": {},
   "outputs": [],
   "source": [
    "#list of all ciphertexts in hex as per mapping\n",
    "cipher=[]\n",
    "#read in the output file after encrypting plaintexts from input.txt\n",
    "lines = open(\"ciphertexts1.txt\").read().split(\"\\n\")\n",
    "\n",
    "n=len(lines)\n",
    "for i in range(0,n):\n",
    "  #checking if a ciphertext is not of 16 letters\n",
    "    if(len(lines[i]) == 16):\n",
    "        #temp list\n",
    "        st=[]\n",
    "        for j in range(16):\n",
    "            st+=mapping[lines[i][j]]\n",
    "        cipher+=[st]    \n",
    "#print(cipher[0])"
   ]
  },
  {
   "cell_type": "code",
   "execution_count": 23,
   "id": "9beab147",
   "metadata": {},
   "outputs": [],
   "source": [
    "#applying inverse final permutation on each 64 (=16*4) bit ciphertext\n",
    "n=len(cipher)\n",
    "ifp_res = []\n",
    "for i in range(0,n):\n",
    "    ifp_res2 = []\n",
    "    for j in range(64):\n",
    "        ifp_res2+=[cipher[i][RFP[j]-1]]\n",
    "    ifp_res+=[ifp_res2]\n",
    "#print(ifp_res2[0:10])"
   ]
  },
  {
   "cell_type": "code",
   "execution_count": 24,
   "id": "bfd8faa6",
   "metadata": {},
   "outputs": [],
   "source": [
    "#XOR of inverse permuted ciphertext's result\n",
    "ifp_XOR=[]\n",
    "for i in range(0,n//2):\n",
    "    ifp_XOR += [list(np.bitwise_xor(ifp_res[2*i+1],ifp_res[2*i]))]"
   ]
  },
  {
   "cell_type": "code",
   "execution_count": 25,
   "id": "52cc2e99",
   "metadata": {},
   "outputs": [],
   "source": [
    "#Expansion of R5\n",
    "exp_out=[]\n",
    "for i in range(0,n):\n",
    "    exp_out2=[]\n",
    "    for j in range(0,48):\n",
    "        exp_out2+=[ifp_res[i][exp_d[j]-1]]\n",
    "    exp_out+=[exp_out2]\n",
    "#print(exp_out[0])"
   ]
  },
  {
   "cell_type": "code",
   "execution_count": 26,
   "id": "76bf588e",
   "metadata": {},
   "outputs": [],
   "source": [
    "#XOR of expanded outputs to find inputs to s-boxes\n",
    "sbox_in=[]\n",
    "for i in range(0,n//2):\n",
    "    sbox_in += [list(np.bitwise_xor(exp_out[2*i+1],exp_out[2*i]))]\n",
    "#print(sbox_in[0])            "
   ]
  },
  {
   "cell_type": "code",
   "execution_count": 27,
   "id": "52b532cb",
   "metadata": {},
   "outputs": [],
   "source": [
    "#XOR of L5 and R6 from inverse permuted ciphertexts\n",
    "L5 = [0,0,0,0,0,1]+[0]*26\n",
    "xor_out=[]\n",
    "for i in range(0,len(ifp_XOR)):\n",
    "    xor_out += [list(np.bitwise_xor(ifp_XOR[i][32:64],L5))]"
   ]
  },
  {
   "cell_type": "code",
   "execution_count": 28,
   "id": "14262c5e",
   "metadata": {},
   "outputs": [],
   "source": [
    "#XOR of outputs after s-boxes\n",
    "sbox_out = []\n",
    "for i in range(0,len(xor_out)):\n",
    "    sbox_out2=[]\n",
    "    for j in range(0,32):\n",
    "        sbox_out2 += [xor_out[i][INV_P[j]-1]]\n",
    "    sbox_out += [sbox_out2]"
   ]
  },
  {
   "cell_type": "code",
   "execution_count": 29,
   "id": "f665af64",
   "metadata": {},
   "outputs": [],
   "source": [
    "#storing expanded outputs\n",
    "with open(\"exp_out1.txt\",\"w\") as f:\n",
    "    n1 = len(exp_out)\n",
    "    for i in range(0, n1):\n",
    "        if(i%2 != 1):\n",
    "            temp = \"\"\n",
    "            for j in exp_out[i]:\n",
    "                temp += str(j)\n",
    "            f.write(temp + \"\\n\")\n",
    "f.close()"
   ]
  },
  {
   "cell_type": "code",
   "execution_count": 30,
   "id": "294fff4b",
   "metadata": {},
   "outputs": [],
   "source": [
    "#storing inputs to s-boxes\n",
    "with open(\"sbox_in1.txt\",\"w\") as f:\n",
    "    for i in sbox_in:\n",
    "        temp = \"\"\n",
    "        for j in i:\n",
    "            temp += str(j)\n",
    "        f.write(temp + \"\\n\")\n",
    "f.close()"
   ]
  },
  {
   "cell_type": "code",
   "execution_count": 31,
   "id": "49f4f691",
   "metadata": {},
   "outputs": [],
   "source": [
    "#storing outputs of s-boxes\n",
    "with open(\"sbox_out1.txt\", \"w\") as f:\n",
    "    for i in sbox_out:\n",
    "        temp = \"\"\n",
    "        for j in i:\n",
    "            temp += str(j)\n",
    "        f.write(temp + \"\\n\")\n",
    "f.close()"
   ]
  },
  {
   "cell_type": "markdown",
   "id": "4f1ed604",
   "metadata": {},
   "source": [
    "## Finding the Keys for S-Boxes of Round 6 for characteristic 1"
   ]
  },
  {
   "cell_type": "code",
   "execution_count": 32,
   "id": "c805d80d",
   "metadata": {},
   "outputs": [],
   "source": [
    "Keys = np.zeros((8,64))"
   ]
  },
  {
   "cell_type": "code",
   "execution_count": 33,
   "id": "80bd44db",
   "metadata": {},
   "outputs": [],
   "source": [
    "sbox_in=[]\n",
    "sbox_out=[]\n",
    "exp_out=[]\n",
    "sbox_in = open(\"sbox_in1.txt\").read().split(\"\\n\")\n",
    "sbox_out = open(\"sbox_out1.txt\").read().split(\"\\n\")\n",
    "exp_out = open(\"exp_out1.txt\").read().split(\"\\n\")"
   ]
  },
  {
   "cell_type": "code",
   "execution_count": 34,
   "id": "907f1b1d",
   "metadata": {},
   "outputs": [],
   "source": [
    "for i in range(len(sbox_in)):\n",
    "    if sbox_in[i] == \"\":\n",
    "        continue     \n",
    "    for j in range(0,8):\n",
    "        inx = int(sbox_in[i][j*6:j*6+6], 2)\n",
    "        outx = int(sbox_out[i][j*4:j*4+4], 2)\n",
    "        inp_orig = int(exp_out[i][j*6:j*6+6], 2)\n",
    "        for k in range(0,64):\n",
    "            a = bin(k)[2:].zfill(6)\n",
    "            b = bin(k^inx)[2:].zfill(6)  \n",
    "            if outx == sbox[j][int(a[0])*2 + int(a[5])][int(a[4]) + 2 *int(a[3]) + int(a[2]) * 4 + int(a[1])*8]^sbox[j][int(b[0])*2 + int(b[5])][int(b[4]) + 2 *int(b[3]) + int(b[2]) * 4 + int(b[1])*8]:\n",
    "                key_cand = k^inp_orig\n",
    "                Keys[j][key_cand] = Keys[j][key_cand] + 1"
   ]
  },
  {
   "cell_type": "code",
   "execution_count": 35,
   "id": "114c6fd0",
   "metadata": {
    "scrolled": false
   },
   "outputs": [
    {
     "name": "stdout",
     "output_type": "stream",
     "text": [
      "[[ 70.  63.  87.  73.  64.  59.  55.  60.  71.  78.  57.  78.  59.  56.\n",
      "   78.  76.  66.  59.  72.  62.  67.  49.  55.  69.  65.  73.  60.  69.\n",
      "   58.  63.  68.  60.  71.  54.  58.  71.  53.  62.  64.  63.  57.  55.\n",
      "   63.  77.  74.  52.  66.  60.  51.  58.  63.  54.  63.  55.  68.  56.\n",
      "   57.  54.  61.  53.  59. 136.  73.  72.]\n",
      " [ 67.  64.  82.  66.  94.  79.  90.  65.  72.  70.  71.  73.  63.  78.\n",
      "   94.  65.  74.  68.  82.  77.  81.  73.  78.  70.  72.  67.  69.  93.\n",
      "   63.  64.  80.  66.  69.  72.  59.  70.  75.  77.  78.  90.  62.  81.\n",
      "   58.  77.  72.  78.  83.  80.  65.  79.  94.  71.  78.  70.  71.  83.\n",
      "   53.  67.  64. 320.  60.  73.  66.  73.]\n",
      " [ 52.  72.  71.  82.  66.  70.  68.  66.  69.  64.  57.  72.  66.  66.\n",
      "   72.  68.  87.  65.  65.  66.  55.  63.  61.  66.  58.  71.  54.  60.\n",
      "   63.  76.  67.  66.  62.  82.  64.  66.  73. 131.  50.  45.  79.  73.\n",
      "   44.  50.  71.  67.  76.  75.  64.  67.  65.  61.  59.  74.  66.  52.\n",
      "   48.  69.  68.  66.  65.  53.  65.  62.]\n",
      " [ 72.  78.  63.  72.  52.  65.  66. 124.  72.  80.  67.  57.  78.  80.\n",
      "   48.  74.  65.  70.  54.  83.  64.  72.  58.  66.  73.  71.  79.  69.\n",
      "   57.  52.  69.  69.  52.  64.  85.  64.  50.  79.  75.  79.  75.  77.\n",
      "   67.  66.  78.  61.  72.  70.  53.  61.  68.  77.  74.  54.  68.  74.\n",
      "   59.  50.  73.  75.  50.  58.  50.  61.]\n",
      " [ 67.  60. 177.  70.  65.  67.  64.  59.  65.  59.  69.  71.  62.  64.\n",
      "   75.  73.  70.  74.  63.  56.  79.  74.  62.  62.  75.  67.  69.  69.\n",
      "   77.  57.  64.  63.  82.  65.  63.  62.  68.  70.  59.  74.  59.  68.\n",
      "   55.  58.  63.  61.  58.  66.  66.  69.  79.  69.  50.  73.  77.  59.\n",
      "   73.  75.  70.  73.  58.  58.  72.  58.]\n",
      " [ 63.  69.  78.  97.  91.  72.  66.  85.  71.  79.  70.  70.  77.  59.\n",
      "   77.  67.  65.  67.  68.  67.  74.  59.  54.  59.  67.  79.  68.  80.\n",
      "   59.  86.  74.  77.  71.  62.  74.  54.  60.  69.  67.  67.  60.  74.\n",
      "   56.  68.  78.  75.  71.  90.  71.  65.  76.  81.  84.  75.  69.  83.\n",
      "   66.  78.  75. 102.  57.  70.  88. 320.]\n",
      " [ 91.  69.  60.  62.  59.  53.  68.  72.  64.  82.  67.  74.  58.  62.\n",
      "   71.  64. 190.  75.  73.  76.  65.  80.  69.  79.  82.  72.  77.  62.\n",
      "   82.  81.  67.  71.  77.  74.  73.  78.  81.  74.  77.  60.  59.  50.\n",
      "   66.  69.  70.  53.  57.  62.  73.  73.  88.  67.  64.  73.  80.  82.\n",
      "   70.  71.  79.  75.  64.  70.  66.  66.]\n",
      " [ 84.  61.  71.  76.  66.  68.  67.  70.  67.  77.  71.  56.  61.  78.\n",
      "   59.  62.  83.  76.  72.  64.  72.  71.  72.  61.  79.  87.  65.  62.\n",
      "   70.  81.  67.  72.  79.  60.  56.  79.  76.  71.  57.  65.  66.  55.\n",
      "   68.  69.  69.  79.  64.  83. 189.  83.  83.  68.  76.  71.  68.  73.\n",
      "   72.  60.  61.  59.  68.  70.  61.  70.]]\n"
     ]
    }
   ],
   "source": [
    "print(Keys)"
   ]
  },
  {
   "cell_type": "code",
   "execution_count": 36,
   "id": "7a230203",
   "metadata": {},
   "outputs": [
    {
     "name": "stdout",
     "output_type": "stream",
     "text": [
      "S-box\tMax\tMean\tKey\n",
      "S1\t136\t65\t61\n",
      "S2\t320\t77\t59\n",
      "S3\t131\t66\t37\n",
      "S4\t124\t68\t7\n",
      "S5\t177\t68\t2\n",
      "S6\t320\t76\t63\n",
      "S7\t190\t72\t16\n",
      "S8\t189\t72\t48\n"
     ]
    }
   ],
   "source": [
    "maxval = []\n",
    "mean = []\n",
    "keyval = []\n",
    "for i in Keys:\n",
    "    index, value = max(enumerate(i), key=operator.itemgetter(1))\n",
    "    maxval+=[int(value)]\n",
    "    keyval+=[index]\n",
    "    mean+=[int(round(np.mean(i)))]\n",
    "print(\"S-box\"+ \"\\t\" +\"Max\" + \"\\t\" + \"Mean\" + \"\\t\" + \"Key\")\n",
    "for i in range(0,8):\n",
    "    print(\"S\"+ str(i+1) +\"\\t\"+ str(maxval[i]) + \"\\t\" + str(mean[i]) + \"\\t\" + str(keyval[i]))"
   ]
  },
  {
   "cell_type": "markdown",
   "id": "6c53f929",
   "metadata": {},
   "source": [
    "## Computing XORs at IN and OUT of S-boxes for characteristic 2"
   ]
  },
  {
   "cell_type": "code",
   "execution_count": 37,
   "id": "ec7d7c20",
   "metadata": {},
   "outputs": [],
   "source": [
    "#list of all ciphertexts in hex as per mapping\n",
    "cipher=[]\n",
    "#read in the output file after encrypting plaintexts from input.txt\n",
    "lines = open(\"ciphertexts2.txt\").read().split(\"\\n\")\n",
    "\n",
    "n=len(lines)\n",
    "for i in range(0,n):\n",
    "  #checking if a ciphertext is not of 16 letters\n",
    "    if(len(lines[i]) == 16):\n",
    "        #temp list\n",
    "        st=[]\n",
    "        for j in range(16):\n",
    "            st+=mapping[lines[i][j]]\n",
    "        cipher+=[st]    \n",
    "#print(cipher[0])"
   ]
  },
  {
   "cell_type": "code",
   "execution_count": 38,
   "id": "762288c5",
   "metadata": {},
   "outputs": [],
   "source": [
    "#applying inverse final permutation on each 64 (=16*4) bit ciphertext\n",
    "n=len(cipher)\n",
    "ifp_res = []\n",
    "for i in range(0,n):\n",
    "    ifp_res2 = []\n",
    "    for j in range(64):\n",
    "        ifp_res2+=[cipher[i][RFP[j]-1]]\n",
    "    ifp_res+=[ifp_res2]\n",
    "#print(ifp_res2[0:10])"
   ]
  },
  {
   "cell_type": "code",
   "execution_count": 39,
   "id": "1d68bc43",
   "metadata": {},
   "outputs": [],
   "source": [
    "#XOR of inverse permuted ciphertext's result\n",
    "ifp_XOR=[]\n",
    "for i in range(0,n//2):\n",
    "    ifp_XOR+= [list(np.bitwise_xor(ifp_res[2*i+1],ifp_res[2*i]))]"
   ]
  },
  {
   "cell_type": "code",
   "execution_count": 40,
   "id": "f2c77f49",
   "metadata": {},
   "outputs": [],
   "source": [
    "#Expansion of R5\n",
    "exp_out=[]\n",
    "for i in range(0,n):\n",
    "    exp_out2=[]\n",
    "    for j in range(0,48):\n",
    "        exp_out2+=[ifp_res[i][exp_d[j]-1]]\n",
    "    exp_out+=[exp_out2]\n",
    "#print(exp_out[0])"
   ]
  },
  {
   "cell_type": "code",
   "execution_count": 41,
   "id": "093d81dd",
   "metadata": {},
   "outputs": [],
   "source": [
    "#XOR of expanded outputs to find inputs to s-boxes\n",
    "sbox_in=[]\n",
    "for i in range(0,n//2):\n",
    "    sbox_in+= [list(np.bitwise_xor(exp_out[2*i+1],exp_out[2*i]))]\n",
    "#print(sbox_in[0])            "
   ]
  },
  {
   "cell_type": "code",
   "execution_count": 42,
   "id": "bb0921a6",
   "metadata": {},
   "outputs": [],
   "source": [
    "#XOR of L5 and R6 from inverse permuted ciphertexts\n",
    "L5 = [0,0,0,0,0,0,0,0,0,0,0,0,0,0,0,0,0,0,0,0,0,1,0,0,0,0,0,0,0,0,0,0]\n",
    "# print(len(L5))\n",
    "xor_out=[]\n",
    "for i in range(0,len(ifp_XOR)):\n",
    "    xor_out+=[list(np.bitwise_xor(ifp_XOR[i][32:64],L5))]"
   ]
  },
  {
   "cell_type": "code",
   "execution_count": 43,
   "id": "a7b5cba3",
   "metadata": {},
   "outputs": [],
   "source": [
    "#XOR of outputs after s-boxes\n",
    "sbox_out = []\n",
    "for i in range(0,len(xor_out)):\n",
    "    sbox_out2=[]\n",
    "    for j in range(0,32):\n",
    "        sbox_out2+=[xor_out[i][INV_P[j]-1]]\n",
    "    sbox_out+=[sbox_out2]"
   ]
  },
  {
   "cell_type": "code",
   "execution_count": 44,
   "id": "656e9a97",
   "metadata": {},
   "outputs": [],
   "source": [
    "#storing expanded outputs\n",
    "with open(\"exp_out2.txt\",\"w\") as f:\n",
    "    n1 = len(exp_out)\n",
    "    for i in range(0,n1):\n",
    "        if(i%2!=1):\n",
    "            temp=\"\"\n",
    "            for j in exp_out[i]:\n",
    "                temp+=str(j)\n",
    "            f.write(temp+\"\\n\")\n",
    "f.close()"
   ]
  },
  {
   "cell_type": "code",
   "execution_count": 45,
   "id": "c22324d3",
   "metadata": {},
   "outputs": [],
   "source": [
    "#storing inputs to s-boxes\n",
    "with open(\"sbox_in2.txt\",\"w\") as f:\n",
    "    for i in sbox_in:\n",
    "        temp=\"\"\n",
    "        for j in i:\n",
    "            temp+=str(j)\n",
    "        f.write(temp+\"\\n\")\n",
    "f.close()"
   ]
  },
  {
   "cell_type": "code",
   "execution_count": 46,
   "id": "1c5d5dcd",
   "metadata": {},
   "outputs": [],
   "source": [
    "#storing outputs of s-boxes\n",
    "with open(\"sbox_out2.txt\",\"w\") as f:\n",
    "    for i in sbox_out:\n",
    "        temp=\"\"\n",
    "        for j in i:\n",
    "            temp+=str(j)\n",
    "        f.write(temp+\"\\n\")\n",
    "f.close()"
   ]
  },
  {
   "cell_type": "markdown",
   "id": "ab687ea1",
   "metadata": {},
   "source": [
    "## Finding the Keys for S-Boxes of Round 6 for characteristic 2"
   ]
  },
  {
   "cell_type": "code",
   "execution_count": 47,
   "id": "2ab9136d",
   "metadata": {},
   "outputs": [],
   "source": [
    "Keys = np.zeros((8,64))"
   ]
  },
  {
   "cell_type": "code",
   "execution_count": 48,
   "id": "4e2bfc79",
   "metadata": {},
   "outputs": [],
   "source": [
    "sbox_in=[]\n",
    "sbox_out=[]\n",
    "exp_out=[]\n",
    "sbox_in = open(\"sbox_in2.txt\").read().split(\"\\n\")\n",
    "sbox_out = open(\"sbox_out2.txt\").read().split(\"\\n\")\n",
    "exp_out = open(\"exp_out2.txt\").read().split(\"\\n\")"
   ]
  },
  {
   "cell_type": "code",
   "execution_count": 49,
   "id": "3e405cd7",
   "metadata": {},
   "outputs": [],
   "source": [
    "for i in range(len(sbox_in)):\n",
    "    if sbox_in[i]==\"\":\n",
    "        continue     \n",
    "    for j in range(0,8):\n",
    "        inx = int(sbox_in[i][j*6:j*6+6], 2)\n",
    "        outx = int(sbox_out[i][j*4:j*4+4], 2)\n",
    "        inp_orig = int(exp_out[i][j*6:j*6+6], 2)\n",
    "        for k in range(0,64):\n",
    "            a = bin(k)[2:].zfill(6)\n",
    "            b = bin(k^inx)[2:].zfill(6)  \n",
    "            if outx == sbox[j][int(a[0])*2 + int(a[5])][int(a[4]) + 2 *int(a[3]) + int(a[2]) * 4 + int(a[1])*8]^sbox[j][int(b[0])*2 + int(b[5])][int(b[4]) + 2 *int(b[3]) + int(b[2]) * 4 + int(b[1])*8]:\n",
    "                key_cand = k^inp_orig\n",
    "                Keys[j][key_cand] = Keys[j][key_cand] + 1"
   ]
  },
  {
   "cell_type": "code",
   "execution_count": 50,
   "id": "8f847ec7",
   "metadata": {
    "scrolled": false
   },
   "outputs": [
    {
     "name": "stdout",
     "output_type": "stream",
     "text": [
      "[[ 62.  72.  63.  64.  62.  61.  65.  59.  69.  66.  66.  50.  57.  63.\n",
      "   65.  63.  58.  66.  55.  62.  65.  63.  58.  60.  66.  68.  59.  77.\n",
      "   62.  88.  68.  80.  68.  60.  78.  65.  65.  72.  60.  61.  68.  62.\n",
      "   53.  68.  60.  54.  60.  70.  47.  64.  63.  62.  69.  61.  69.  63.\n",
      "   76.  71.  48.  71.  72. 157.  64.  57.]\n",
      " [ 74.  64.  60.  75.  70.  71.  63.  66.  62.  59.  66.  78.  62.  71.\n",
      "   77.  61.  65.  61.  62.  82.  63.  76.  77.  75.  63.  70.  58.  93.\n",
      "   73.  61.  70.  71.  55.  63.  63.  69.  54.  75.  85.  81.  66.  55.\n",
      "   69.  78.  66.  64.  60.  71.  69.  69.  70.  69.  85.  61.  76.  84.\n",
      "   65.  54.  73. 152.  60.  77.  57.  62.]\n",
      " [ 56.  64.  70.  63.  67.  57.  63.  62.  81.  77.  62.  70.  71.  67.\n",
      "   61.  66.  61.  71.  62.  58.  63.  54.  53.  74.  54.  56.  66.  68.\n",
      "   69.  71.  67.  65.  62.  59.  59.  54.  76. 116.  63.  71.  64.  69.\n",
      "   81.  65.  63.  46.  70.  71.  75.  72.  60.  70.  54.  55.  75.  77.\n",
      "   74.  62.  64.  68.  62.  67.  67.  58.]\n",
      " [ 84.  77.  91.  83.  85.  84. 124. 302.  76.  77.  74.  77.  84.  67.\n",
      "   85.  85.  87.  86.  75.  94.  75.  93.  79.  94.  98.  88.  72.  91.\n",
      "   81.  71.  95.  97.  74.  77.  73.  62.  78.  77.  82. 112. 135. 117.\n",
      "   71.  77.  85.  87.  76.  81.  80.  87.  75. 101.  69.  70.  84.  86.\n",
      "   91.  78.  76.  85.  75.  76.  61.  79.]\n",
      " [ 62.  68. 181.  74.  63.  62.  57.  70.  67.  57.  59.  64.  67.  88.\n",
      "   66.  73.  61.  74.  72.  73.  53.  66.  63.  54.  85.  68.  64.  69.\n",
      "   66.  76.  63.  60.  79.  68.  71.  66.  85.  77.  43.  63.  79.  64.\n",
      "   63.  54.  64.  72.  54.  69.  66.  86.  63.  58.  65.  64.  74.  76.\n",
      "   70.  65.  67.  54.  78.  65.  75.  66.]\n",
      " [ 58.  60.  70.  72.  81.  74.  69.  71.  64.  73.  61.  69.  70.  70.\n",
      "   75.  69.  76.  62.  52.  65.  86.  67.  70.  56.  78.  83.  73.  68.\n",
      "   61.  69.  70.  74.  71.  75.  74.  70.  76.  82.  69.  59.  74.  71.\n",
      "   70.  58.  76.  60.  50.  61.  73.  77.  61.  89.  59.  72.  55.  76.\n",
      "   69.  66.  50.  87.  77.  71.  98. 302.]\n",
      " [ 66.  57.  60.  58.  62.  68.  64.  72.  70.  72.  73.  52.  62.  61.\n",
      "   53.  74. 110.  78.  74.  70.  63.  63.  56.  74.  82.  66.  60.  66.\n",
      "   65.  73.  59.  62.  70.  65.  53.  70.  75.  55.  63.  61.  58.  59.\n",
      "   64.  69.  55.  60.  64.  92.  60.  64.  75.  71.  61.  69.  58.  55.\n",
      "   59.  82.  60.  62.  65.  78.  60.  67.]\n",
      " [ 69.  74.  60.  76.  71.  62.  70.  61.  70.  67.  58.  62.  61.  61.\n",
      "   60.  63.  77.  55.  70.  66.  67.  69.  68.  53.  67.  75.  90.  69.\n",
      "   58.  51.  84.  68.  56.  57.  58.  73.  76.  63.  61.  60.  61.  61.\n",
      "   62.  58.  71.  54.  65.  50. 116.  72.  66.  64.  65.  64.  56.  55.\n",
      "   68.  60.  55.  73.  71.  70.  79.  66.]]\n"
     ]
    }
   ],
   "source": [
    "print(Keys)"
   ]
  },
  {
   "cell_type": "code",
   "execution_count": 51,
   "id": "3741d889",
   "metadata": {
    "scrolled": false
   },
   "outputs": [
    {
     "name": "stdout",
     "output_type": "stream",
     "text": [
      "S-box\tMax\tMean\tKey\n",
      "S1\t157\t66\t61\n",
      "S2\t152\t70\t59\n",
      "S3\t116\t66\t37\n",
      "S4\t302\t87\t7\n",
      "S5\t181\t69\t2\n",
      "S6\t302\t73\t63\n",
      "S7\t110\t66\t16\n",
      "S8\t116\t66\t48\n"
     ]
    }
   ],
   "source": [
    "maxval = []\n",
    "mean = []\n",
    "keyval = []\n",
    "for i in Keys:\n",
    "    index, value = max(enumerate(i), key=operator.itemgetter(1))\n",
    "    maxval+=[int(value)]\n",
    "    keyval+=[index]\n",
    "    mean+=[int(round(np.mean(i)))]\n",
    "print(\"S-box\"+ \"\\t\" +\"Max\" + \"\\t\" + \"Mean\" + \"\\t\" + \"Key\")\n",
    "for i in range(0,8):\n",
    "    print(\"S\"+ str(i+1) +\"\\t\"+ str(maxval[i]) + \"\\t\" + str(mean[i]) + \"\\t\" + str(keyval[i]))"
   ]
  },
  {
   "cell_type": "markdown",
   "id": "83a32aa2",
   "metadata": {},
   "source": [
    "## Finding the Master Key"
   ]
  },
  {
   "cell_type": "code",
   "execution_count": 52,
   "id": "08cc1c68",
   "metadata": {},
   "outputs": [
    {
     "name": "stdout",
     "output_type": "stream",
     "text": [
      "X11XX1XX01011X100XX11X11101X1110100X00010010X00X0101X011\n"
     ]
    }
   ],
   "source": [
    "s_box_key=\"111101111011XXXXXX000111000010111111010000110000\" #Key obtained so far from S boxes  \n",
    "Master_key=['X']*56\n",
    "\n",
    "for i in range(len(s_box_key)):\n",
    "    Master_key[pc2[i]-1]=s_box_key[i]             \n",
    "shifts=[1, 1, 2, 2, 2, 2, 2, 2, 1, 2, 2, 2, 2, 2, 2, 1]     \n",
    "for i in range(0,6):\n",
    "    for j in range(shifts[i]):\n",
    "        temp2=Master_key[27]\n",
    "        temp1=Master_key[55]\n",
    "        for k in range(27,0,-1):\n",
    "            Master_key[k]=Master_key[k-1]\n",
    "            Master_key[k+28]=Master_key[k+27]\n",
    "        Master_key[0]=temp2\n",
    "        Master_key[28]=temp1\n",
    "print(\"\".join(Master_key))\n"
   ]
  },
  {
   "cell_type": "markdown",
   "id": "a1518f4d",
   "metadata": {},
   "source": [
    "## Generating all possible keys using the obtained Master Key"
   ]
  },
  {
   "cell_type": "code",
   "execution_count": 53,
   "id": "34858fc9",
   "metadata": {},
   "outputs": [
    {
     "name": "stdout",
     "output_type": "stream",
     "text": [
      "16384\n"
     ]
    }
   ],
   "source": [
    "#Master key X11XX1XX01011X100XX11X11101X1110100X00010010X00X0101X011\n",
    "possible=[]\n",
    "for i in range(0,2**14):\n",
    "    possible.append(str(i//8192%2)+'11'+str(i//4096%2)+str(i//2048%2)+'1' + str(i//1024%2)+ str(i//512%2)+'01011'+str(i//256%2)+'100'+str(i//128%2) + str(i//64%2)+'11'+str(i//32%2)+'11101' + str(i//16%2) + \"1110100\" + str(i//8%2)+'00010010' + str(i//4%2) + \"00\" + str(i//2%2) + '0101' + str(i%2) + \"011\" + '\\n')\n",
    "print(len(possible))"
   ]
  },
  {
   "cell_type": "markdown",
   "id": "d66c1f95",
   "metadata": {},
   "source": [
    "## Brute Force to find the Actual Key"
   ]
  },
  {
   "cell_type": "code",
   "execution_count": 54,
   "id": "9b34b9fa",
   "metadata": {},
   "outputs": [],
   "source": [
    "def generate_round_keys(k, ro):\n",
    "    l=k[0:28]     \n",
    "    r=k[28:56]  \n",
    "\n",
    "    #binary round keys\n",
    "    kb = []\n",
    "    #hex round keys\n",
    "    kh  = []\n",
    "    for i in range(0,ro): \n",
    "        #shift bits by n using shift table \n",
    "        l = shift_left(l, shift_table[i]) \n",
    "        r = shift_left(r, shift_table[i]) \n",
    "\n",
    "        #merge\n",
    "        mer=l+r \n",
    "\n",
    "        #compress key from 56 to 48 bits using key compression table\n",
    "        kb+=[permute(mer, key_comp, 48)] \n",
    "        kh+=[bin2hex(permute(mer, key_comp, 48))]\n",
    "    return kb"
   ]
  },
  {
   "cell_type": "code",
   "execution_count": 55,
   "id": "ae3efd2d",
   "metadata": {},
   "outputs": [],
   "source": [
    "def encrypt(pt, kb,ro):  \n",
    "    # Initial Permutation \n",
    "    pt = permute(pt, initial_perm, 64)\n",
    "      \n",
    "    #break into left and right half\n",
    "    l = pt[0:32] \n",
    "    r= pt[32:64] \n",
    "    for i in range(0,ro): \n",
    "        #expand 32 bits to 48 \n",
    "        r_exp = permute(r, exp_d, 48) \n",
    "          \n",
    "        #XOR ith roundkey and r_exp  \n",
    "        r_xor = xor(r_exp,kb[i]) \n",
    "\n",
    "        #substituting the value from s-box table by calculating row and column  \n",
    "        sbox_st = \"\" \n",
    "        for j in range(0,8): \n",
    "            row = bin2dec(int(r_xor[j*6] + r_xor[j*6+5])) \n",
    "            col = bin2dec(int(r_xor[j*6+1] + r_xor[j*6+2] + r_xor[j*6+3] + r_xor[j*6+4])) \n",
    "            value = sbox[j][row][col] \n",
    "            sbox_st = sbox_st+dec2bin(value) \n",
    "              \n",
    "        #rearrange bits   \n",
    "        sbox_st = permute(sbox_st, per, 32) \n",
    "          \n",
    "        #XOR left half and sbox_st \n",
    "        res= xor(l, sbox_st) \n",
    "        l = res        \n",
    "        if(i!=5): \n",
    "            temp = l\n",
    "            l = r\n",
    "            r = temp\n",
    "  \n",
    "    #merge\n",
    "    mer=l+r \n",
    "      \n",
    "    #rearrange bits to get ciphertext \n",
    "    ciphertext = permute(mer, final_perm, 64) \n",
    "    return ciphertext"
   ]
  },
  {
   "cell_type": "code",
   "execution_count": 56,
   "id": "c6de1d8f",
   "metadata": {},
   "outputs": [
    {
     "name": "stdout",
     "output_type": "stream",
     "text": [
      "The Key is: 01101110010111100111101110101110100100010010000001010011\n",
      "\n"
     ]
    }
   ],
   "source": [
    "bin_pt = \"\"\n",
    "for i in \"fghijklmnopqrstu\":\n",
    "    bin_pt += f2u_mapping[i]\n",
    "bin_ct = \"\"\n",
    "for i in \"oifufomhfpgponlu\":\n",
    "    bin_ct += f2u_mapping[i]\n",
    "\n",
    "    \n",
    "for k in possible:\n",
    "    kb = generate_round_keys(k,6)\n",
    "    if(encrypt(bin_pt,kb,6) == bin_ct):\n",
    "        # required = k\n",
    "        print(\"The Key is: \" + k)\n",
    "        break"
   ]
  },
  {
   "cell_type": "markdown",
   "id": "ca9a7540",
   "metadata": {},
   "source": [
    "## Finding the keys for All Rounds using the Actual Key"
   ]
  },
  {
   "cell_type": "code",
   "execution_count": 57,
   "id": "36667ad7",
   "metadata": {},
   "outputs": [
    {
     "name": "stdout",
     "output_type": "stream",
     "text": [
      "Round 1  111111000100111110000111000001101000011100010011\n",
      "Round 2  011011110011111101100010101001000001000111001010\n",
      "Round 3  111010101111110011101101010001001001001001100111\n",
      "Round 4  110110011110011101011010010101101000110011101000\n",
      "Round 5  011001001101111110111011000010001001110101011001\n",
      "Round 6  111101111011100101000111000010111111010000110000\n"
     ]
    }
   ],
   "source": [
    "key='01101110010111100111101110101110100100010010000001010011'\n",
    "l = key[0:28]     \n",
    "r = key[28:56]  \n",
    "\n",
    "#binary round keys\n",
    "kb = []\n",
    "for i in range(0,6): \n",
    "    #shift bits by n using shift table \n",
    "    l = shift_left(l, shift_table[i]) \n",
    "    r = shift_left(r, shift_table[i]) \n",
    "\n",
    "    #merge\n",
    "    mer=l+r \n",
    "\n",
    "    #compress key from 56 to 48 bits using key compression table\n",
    "    kb.append(permute(mer, key_comp, 48))\n",
    "    print(\"Round \"  + str(i+1) +\"  \"+kb[i])\n"
   ]
  },
  {
   "cell_type": "code",
   "execution_count": 58,
   "id": "4b0dccf2",
   "metadata": {},
   "outputs": [
    {
     "name": "stdout",
     "output_type": "stream",
     "text": [
      "[0, 1, 1, 0, 1, 1, 1, 0, 0, 1, 0, 1, 1, 1, 1, 0, 0, 1, 1, 1, 1, 0, 1, 1, 1, 0, 1, 0, 1, 1, 1, 0, 1, 0, 0, 1, 0, 0, 0, 1, 0, 0, 1, 0, 0, 0, 0, 0, 0, 1, 0, 1, 0, 0, 1, 1]\n"
     ]
    }
   ],
   "source": [
    "s = \"01101110010111100111101110101110100100010010000001010011\"\n",
    "l=[]\n",
    "for item in s:\n",
    "    l.append(int(item))\n",
    "print(l)"
   ]
  },
  {
   "cell_type": "code",
   "execution_count": 59,
   "id": "5436509c",
   "metadata": {},
   "outputs": [],
   "source": [
    "temp='msmfmpspkusspmqjhuonlfpolgmhjtpl'"
   ]
  },
  {
   "cell_type": "code",
   "execution_count": 60,
   "id": "206bb764",
   "metadata": {},
   "outputs": [],
   "source": [
    "rev_dict=mapping = {\n",
    "           'f' : '0000',\n",
    "           'g' : '0001',\n",
    "           'h' : '0010',\n",
    "           'i' : '0011',\n",
    "           'j' : '0100',\n",
    "           'k' : '0101',\n",
    "           'l' : '0110',\n",
    "           'm' : '0111',\n",
    "           'n' : '1000',\n",
    "           'o' : '1001',\n",
    "           'p' : '1010',\n",
    "           'q' : '1011',\n",
    "           'r' : '1100',\n",
    "           's' : '1101',\n",
    "           't' : '1110',\n",
    "           'u' : '1111'\n",
    "           }\n",
    "\n",
    "ans=\"\"\n",
    "for item in temp:\n",
    "    ans+=str(rev_dict[item])\n",
    "     "
   ]
  },
  {
   "cell_type": "code",
   "execution_count": 61,
   "id": "16e95e3d",
   "metadata": {},
   "outputs": [
    {
     "name": "stdout",
     "output_type": "stream",
     "text": [
      "[125, 112, 122, 218, 95, 221, 167, 180, 47, 152, 96, 169, 97, 114, 78, 166]\n"
     ]
    }
   ],
   "source": [
    "res=[]\n",
    "\n",
    "# Binary to decimal conversion \n",
    "def bin2dec(binary):  \n",
    "        \n",
    "    binary1 = binary  \n",
    "    decimal, i, n = 0, 0, 0\n",
    "    while(binary != 0):  \n",
    "        dec = binary % 10\n",
    "        decimal = decimal + dec * pow(2, i)  \n",
    "        binary = binary//10\n",
    "        i += 1\n",
    "    return decimal \n",
    "\n",
    "for i in range(16):\n",
    "    res.append(bin2dec(int(ans[8*i:8*i+8])))\n",
    "print(res)"
   ]
  }
 ],
 "metadata": {
  "kernelspec": {
   "display_name": "Python 3 (ipykernel)",
   "language": "python",
   "name": "python3"
  },
  "language_info": {
   "codemirror_mode": {
    "name": "ipython",
    "version": 3
   },
   "file_extension": ".py",
   "mimetype": "text/x-python",
   "name": "python",
   "nbconvert_exporter": "python",
   "pygments_lexer": "ipython3",
   "version": "3.10.6"
  }
 },
 "nbformat": 4,
 "nbformat_minor": 5
}
