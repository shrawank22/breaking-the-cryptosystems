{
 "cells": [
  {
   "cell_type": "code",
   "execution_count": 1,
   "id": "ea9c6a06",
   "metadata": {},
   "outputs": [],
   "source": [
    "encrypted_text = \"Mewa wa mey twsam iepjoys gt mey ipbya. Pa xgn iph ayy, meysy wa hgmewhr gt whmysyam wh mey iepjoys. Agjy gt mey kpmys iepjoysa vwkk oy jgsy whmysyamwhr meph mewa ghy! Mey iguy nayu tgs mewa jyaapry wa p awjfky anoamwmnmwgh iwfeys wh vewie uwrwma epby oyyh aewtmyu ox 8 fkpiya. Mey fpaavgsu wa mxSrN03uwdd vwmegnm mey dngmya.\""
   ]
  },
  {
   "cell_type": "markdown",
   "id": "fb0aaaff",
   "metadata": {},
   "source": [
    "# SHIFT CIPHER / CAESAR CIPHER"
   ]
  },
  {
   "cell_type": "code",
   "execution_count": 2,
   "id": "fb3b3876",
   "metadata": {},
   "outputs": [
    {
     "name": "stdout",
     "output_type": "stream",
     "text": [
      "Nfxb xb nfz uxtbn jfqkpzt hu nfz jqczb. Qb yho jqi bzz, nfztz xb ihnfxis hu xinztzbn xi nfz jfqkpzt. Bhkz hu nfz lqnzt jfqkpztb wxll pz khtz xinztzbnxis nfqi nfxb hiz! Nfz jhvz obzv uht nfxb kzbbqsz xb q bxkglz bopbnxnonxhi jxgfzt xi wfxjf vxsxnb fqcz pzzi bfxunzv py 8 glqjzb. Nfz gqbbwhtv xb nyTsO03vxee wxnfhon nfz eohnzb.\n",
      "\n",
      "\n",
      "Ogyc yc oga vyuco kgrlqau iv oga krdac. Rc zip krj caa, ogaua yc jiogyjt iv yjoauaco yj oga kgrlqau. Cila iv oga mroau kgrlqauc xymm qa liua yjoauacoyjt ogrj ogyc ija! Oga kiwa pcaw viu ogyc laccrta yc r cylhma cpqcoyopoyij kyhgau yj xgykg wytyoc grda qaaj cgyvoaw qz 8 hmrkac. Oga hrccxiuw yc ozUtP03wyff xyogipo oga fpioac.\n",
      "\n",
      "\n",
      "Phzd zd phb wzvdp lhsmrbv jw phb lsebd. Sd ajq lsk dbb, phbvb zd kjphzku jw zkpbvbdp zk phb lhsmrbv. Djmb jw phb nspbv lhsmrbvd yznn rb mjvb zkpbvbdpzku phsk phzd jkb! Phb ljxb qdbx wjv phzd mbddsub zd s dzminb dqrdpzpqpzjk lzihbv zk yhzlh xzuzpd hseb rbbk dhzwpbx ra 8 inslbd. Phb isddyjvx zd paVuQ03xzgg yzphjqp phb gqjpbd.\n",
      "\n",
      "\n",
      "Qiae ae qic xaweq mitnscw kx qic mtfce. Te bkr mtl ecc, qicwc ae lkqialv kx alqcwceq al qic mitnscw. Eknc kx qic otqcw mitnscwe zaoo sc nkwc alqcwceqalv qitl qiae klc! Qic mkyc recy xkw qiae nceetvc ae t eanjoc erseqaqrqakl majicw al ziami yavaqe itfc sccl eiaxqcy sb 8 jotmce. Qic jteezkwy ae qbWvR03yahh zaqikrq qic hrkqce.\n",
      "\n",
      "\n",
      "Rjbf bf rjd ybxfr njuotdx ly rjd nugdf. Uf cls num fdd, rjdxd bf mlrjbmw ly bmrdxdfr bm rjd njuotdx. Flod ly rjd purdx njuotdxf abpp td olxd bmrdxdfrbmw rjum rjbf lmd! Rjd nlzd sfdz ylx rjbf odffuwd bf u fbokpd fstfrbrsrblm nbkjdx bm ajbnj zbwbrf jugd tddm fjbyrdz tc 8 kpundf. Rjd kuffalxz bf rcXwS03zbii abrjlsr rjd islrdf.\n",
      "\n",
      "\n",
      "Skcg cg ske zcygs okvpuey mz ske ovheg. Vg dmt ovn gee, skeye cg nmskcnx mz cnseyegs cn ske okvpuey. Gmpe mz ske qvsey okvpueyg bcqq ue pmye cnseyegscnx skvn skcg mne! Ske omae tgea zmy skcg peggvxe cg v gcplqe gtugscstscmn oclkey cn bkcok acxcsg kvhe ueen gkczsea ud 8 lqvoeg. Ske lvggbmya cg sdYxT03acjj bcskmts ske jtmseg.\n",
      "\n",
      "\n",
      "Tldh dh tlf adzht plwqvfz na tlf pwifh. Wh enu pwo hff, tlfzf dh ontldoy na dotfzfht do tlf plwqvfz. Hnqf na tlf rwtfz plwqvfzh cdrr vf qnzf dotfzfhtdoy tlwo tldh nof! Tlf pnbf uhfb anz tldh qfhhwyf dh w hdqmrf huvhtdtutdno pdmlfz do cldpl bdydth lwif vffo hldatfb ve 8 mrwpfh. Tlf mwhhcnzb dh teZyU03bdkk cdtlnut tlf kuntfh.\n",
      "\n",
      "\n",
      "Umei ei umg beaiu qmxrwga ob umg qxjgi. Xi fov qxp igg, umgag ei poumepz ob epugagiu ep umg qmxrwga. Iorg ob umg sxuga qmxrwgai dess wg roag epugagiuepz umxp umei opg! Umg qocg vigc boa umei rgiixzg ei x iernsg ivwiueuvueop qenmga ep dmeqm cezeui mxjg wggp imebugc wf 8 nsxqgi. Umg nxiidoac ei ufAzV03cell deumovu umg lvougi.\n",
      "\n",
      "\n",
      "Vnfj fj vnh cfbjv rnysxhb pc vnh rykhj. Yj gpw ryq jhh, vnhbh fj qpvnfqa pc fqvhbhjv fq vnh rnysxhb. Jpsh pc vnh tyvhb rnysxhbj eftt xh spbh fqvhbhjvfqa vnyq vnfj pqh! Vnh rpdh wjhd cpb vnfj shjjyah fj y jfsoth jwxjvfvwvfpq rfonhb fq enfrn dfafvj nykh xhhq jnfcvhd xg 8 otyrhj. Vnh oyjjepbd fj vgBaW03dfmm efvnpwv vnh mwpvhj.\n",
      "\n",
      "\n",
      "Wogk gk woi dgckw soztyic qd woi szlik. Zk hqx szr kii, woici gk rqwogrb qd grwicikw gr woi soztyic. Kqti qd woi uzwic soztyick fguu yi tqci grwicikwgrb wozr wogk qri! Woi sqei xkie dqc wogk tikkzbi gk z kgtpui kxykwgwxwgqr sgpoic gr fogso egbgwk ozli yiir kogdwie yh 8 puzsik. Woi pzkkfqce gk whCbX03egnn fgwoqxw woi nxqwik.\n",
      "\n",
      "\n",
      "Xphl hl xpj ehdlx tpauzjd re xpj tamjl. Al iry tas ljj, xpjdj hl srxphsc re hsxjdjlx hs xpj tpauzjd. Lruj re xpj vaxjd tpauzjdl ghvv zj urdj hsxjdjlxhsc xpas xphl rsj! Xpj trfj yljf erd xphl ujllacj hl a lhuqvj lyzlxhxyxhrs thqpjd hs gphtp fhchxl pamj zjjs lphexjf zi 8 qvatjl. Xpj qallgrdf hl xiDcY03fhoo ghxpryx xpj oyrxjl.\n",
      "\n",
      "\n",
      "Yqim im yqk fiemy uqbvake sf yqk ubnkm. Bm jsz ubt mkk, yqkek im tsyqitd sf itykekmy it yqk uqbvake. Msvk sf yqk wbyke uqbvakem hiww ak vsek itykekmyitd yqbt yqim stk! Yqk usgk zmkg fse yqim vkmmbdk im b mivrwk mzamyiyzyist uirqke it hqiuq gidiym qbnk akkt mqifykg aj 8 rwbukm. Yqk rbmmhseg im yjEdZ03gipp hiyqszy yqk pzsykm.\n",
      "\n",
      "\n",
      "Zrjn jn zrl gjfnz vrcwblf tg zrl vcoln. Cn kta vcu nll, zrlfl jn utzrjue tg juzlflnz ju zrl vrcwblf. Ntwl tg zrl xczlf vrcwblfn ijxx bl wtfl juzlflnzjue zrcu zrjn tul! Zrl vthl anlh gtf zrjn wlnncel jn c njwsxl nabnzjzazjtu vjsrlf ju irjvr hjejzn rcol bllu nrjgzlh bk 8 sxcvln. Zrl scnnitfh jn zkFeA03hjqq ijzrtaz zrl qatzln.\n",
      "\n",
      "\n",
      "Asko ko asm hkgoa wsdxcmg uh asm wdpmo. Do lub wdv omm, asmgm ko vuaskvf uh kvamgmoa kv asm wsdxcmg. Ouxm uh asm ydamg wsdxcmgo jkyy cm xugm kvamgmoakvf asdv asko uvm! Asm wuim bomi hug asko xmoodfm ko d okxtym obcoakabakuv wktsmg kv jskws ikfkao sdpm cmmv oskhami cl 8 tydwmo. Asm tdoojugi ko alGfB03ikrr jkasuba asm rbuamo.\n",
      "\n",
      "\n",
      "Btlp lp btn ilhpb xteydnh vi btn xeqnp. Ep mvc xew pnn, btnhn lp wvbtlwg vi lwbnhnpb lw btn xteydnh. Pvyn vi btn zebnh xteydnhp klzz dn yvhn lwbnhnpblwg btew btlp vwn! Btn xvjn cpnj ivh btlp ynppegn lp e plyuzn pcdpblbcblvw xlutnh lw ktlxt jlglbp teqn dnnw ptlibnj dm 8 uzexnp. Btn ueppkvhj lp bmHgC03jlss klbtvcb btn scvbnp.\n",
      "\n",
      "\n",
      "Cumq mq cuo jmiqc yufzeoi wj cuo yfroq. Fq nwd yfx qoo, cuoio mq xwcumxh wj mxcoioqc mx cuo yufzeoi. Qwzo wj cuo afcoi yufzeoiq lmaa eo zwio mxcoioqcmxh cufx cumq wxo! Cuo ywko dqok jwi cumq zoqqfho mq f qmzvao qdeqcmcdcmwx ymvuoi mx lumyu kmhmcq ufro eoox qumjcok en 8 vafyoq. Cuo vfqqlwik mq cnIhD03kmtt lmcuwdc cuo tdwcoq.\n",
      "\n",
      "\n",
      "Dvnr nr dvp knjrd zvgafpj xk dvp zgspr. Gr oxe zgy rpp, dvpjp nr yxdvnyi xk nydpjprd ny dvp zvgafpj. Rxap xk dvp bgdpj zvgafpjr mnbb fp axjp nydpjprdnyi dvgy dvnr xyp! Dvp zxlp erpl kxj dvnr aprrgip nr g rnawbp refrdndednxy znwvpj ny mvnzv lnindr vgsp fppy rvnkdpl fo 8 wbgzpr. Dvp wgrrmxjl nr doJiE03lnuu mndvxed dvp uexdpr.\n",
      "\n",
      "\n",
      "Ewos os ewq lokse awhbgqk yl ewq ahtqs. Hs pyf ahz sqq, ewqkq os zyewozj yl ozeqkqse oz ewq awhbgqk. Sybq yl ewq cheqk awhbgqks nocc gq bykq ozeqkqseozj ewhz ewos yzq! Ewq aymq fsqm lyk ewos bqsshjq os h sobxcq sfgseoefeoyz aoxwqk oz nwoaw mojoes whtq gqqz swoleqm gp 8 xchaqs. Ewq xhssnykm os epKjF03movv noewyfe ewq vfyeqs.\n",
      "\n",
      "\n",
      "Fxpt pt fxr mpltf bxichrl zm fxr biurt. It qzg bia trr, fxrlr pt azfxpak zm pafrlrtf pa fxr bxichrl. Tzcr zm fxr difrl bxichrlt opdd hr czlr pafrlrtfpak fxia fxpt zar! Fxr bznr gtrn mzl fxpt crttikr pt i tpcydr tghtfpfgfpza bpyxrl pa oxpbx npkpft xiur hrra txpmfrn hq 8 ydibrt. Fxr yittozln pt fqLkG03npww opfxzgf fxr wgzfrt.\n",
      "\n",
      "\n",
      "Gyqu qu gys nqmug cyjdism an gys cjvsu. Ju rah cjb uss, gysms qu bagyqbl an qbgsmsug qb gys cyjdism. Uads an gys ejgsm cyjdismu pqee is dams qbgsmsugqbl gyjb gyqu abs! Gys caos huso nam gyqu dsuujls qu j uqdzes uhiugqghgqab cqzysm qb pyqcy oqlqgu yjvs issb uyqngso ir 8 zejcsu. Gys zjuupamo qu grMlH03oqxx pqgyahg gys xhagsu.\n",
      "\n",
      "\n",
      "Hzrv rv hzt ornvh dzkejtn bo hzt dkwtv. Kv sbi dkc vtt, hztnt rv cbhzrcm bo rchtntvh rc hzt dzkejtn. Vbet bo hzt fkhtn dzkejtnv qrff jt ebnt rchtntvhrcm hzkc hzrv bct! Hzt dbpt ivtp obn hzrv etvvkmt rv k vreaft vijvhrhihrbc draztn rc qzrdz prmrhv zkwt jttc vzrohtp js 8 afkdtv. Hzt akvvqbnp rv hsNmI03pryy qrhzbih hzt yibhtv.\n",
      "\n",
      "\n",
      "Iasw sw iau psowi ealfkuo cp iau elxuw. Lw tcj eld wuu, iauou sw dciasdn cp sdiuouwi sd iau ealfkuo. Wcfu cp iau gliuo ealfkuow rsgg ku fcou sdiuouwisdn iald iasw cdu! Iau ecqu jwuq pco iasw fuwwlnu sw l wsfbgu wjkwisijiscd esbauo sd rasea qsnsiw alxu kuud waspiuq kt 8 bgleuw. Iau blwwrcoq sw itOnJ03qszz rsiacji iau zjciuw.\n",
      "\n",
      "\n",
      "Jbtx tx jbv qtpxj fbmglvp dq jbv fmyvx. Mx udk fme xvv, jbvpv tx edjbteo dq tejvpvxj te jbv fbmglvp. Xdgv dq jbv hmjvp fbmglvpx sthh lv gdpv tejvpvxjteo jbme jbtx dev! Jbv fdrv kxvr qdp jbtx gvxxmov tx m xtgchv xklxjtjkjtde ftcbvp te sbtfb rtotjx bmyv lvve xbtqjvr lu 8 chmfvx. Jbv cmxxsdpr tx juPoK03rtaa stjbdkj jbv akdjvx.\n",
      "\n",
      "\n",
      "Kcuy uy kcw ruqyk gcnhmwq er kcw gnzwy. Ny vel gnf yww, kcwqw uy fekcufp er ufkwqwyk uf kcw gcnhmwq. Yehw er kcw inkwq gcnhmwqy tuii mw heqw ufkwqwykufp kcnf kcuy efw! Kcw gesw lyws req kcuy hwyynpw uy n yuhdiw ylmykuklkuef gudcwq uf tcugc supuky cnzw mwwf ycurkws mv 8 dingwy. Kcw dnyyteqs uy kvQpL03subb tukcelk kcw blekwy.\n",
      "\n",
      "\n",
      "Ldvz vz ldx svrzl hdoinxr fs ldx hoaxz. Oz wfm hog zxx, ldxrx vz gfldvgq fs vglxrxzl vg ldx hdoinxr. Zfix fs ldx jolxr hdoinxrz uvjj nx ifrx vglxrxzlvgq ldog ldvz fgx! Ldx hftx mzxt sfr ldvz ixzzoqx vz o zviejx zmnzlvlmlvfg hvedxr vg udvhd tvqvlz doax nxxg zdvslxt nw 8 ejohxz. Ldx eozzufrt vz lwRqM03tvcc uvldfml ldx cmflxz.\n",
      "\n",
      "\n",
      "Mewa wa mey twsam iepjoys gt mey ipbya. Pa xgn iph ayy, meysy wa hgmewhr gt whmysyam wh mey iepjoys. Agjy gt mey kpmys iepjoysa vwkk oy jgsy whmysyamwhr meph mewa ghy! Mey iguy nayu tgs mewa jyaapry wa p awjfky anoamwmnmwgh iwfeys wh vewie uwrwma epby oyyh aewtmyu ox 8 fkpiya. Mey fpaavgsu wa mxSrN03uwdd vwmegnm mey dngmya.\n",
      "\n",
      "\n"
     ]
    }
   ],
   "source": [
    "for j in range(1,27):\n",
    "    plain = \"\"\n",
    "    for i in range(len(encrypted_text)):\n",
    "        if(encrypted_text[i].isupper()):\n",
    "            plain += chr(((ord(encrypted_text[i]) + j - 65) % 26) + 65)\n",
    "        elif(encrypted_text[i].islower()):\n",
    "             plain += chr((ord(encrypted_text[i]) + j - 97) % 26 + 97)\n",
    "        else:\n",
    "            plain += encrypted_text[i]\n",
    "    print(plain)\n",
    "    print(\"\\n\")\n",
    "    \n",
    "    "
   ]
  },
  {
   "cell_type": "markdown",
   "id": "fade5b82",
   "metadata": {},
   "source": [
    "# FREQUENCY ANALYSIS"
   ]
  },
  {
   "cell_type": "code",
   "execution_count": 3,
   "id": "4971711a",
   "metadata": {},
   "outputs": [
    {
     "data": {
      "text/plain": [
       "'MEWA WA MEY TWSAM IEPJOYS GT MEY IPBYA. PA XGN IPH AYY, MEYSY WA HGMEWHR GT WHMYSYAM WH MEY IEPJOYS. AGJY GT MEY KPMYS IEPJOYSA VWKK OY JGSY WHMYSYAMWHR MEPH MEWA GHY! MEY IGUY NAYU TGS MEWA JYAAPRY WA P AWJFKY ANOAMWMNMWGH IWFEYS WH VEWIE UWRWMA EPBY OYYH AEWTMYU OX 8 FKPIYA. MEY FPAAVGSU WA MXSRN03UWDD VWMEGNM MEY DNGMYA.'"
      ]
     },
     "execution_count": 3,
     "metadata": {},
     "output_type": "execute_result"
    }
   ],
   "source": [
    "encrypted_text = encrypted_text.upper() #since there are small as well as capital letters in encrypted text, so for frequency analysis we converted each letter to corresponding capital letter\n",
    "encrypted_text"
   ]
  },
  {
   "cell_type": "code",
   "execution_count": 4,
   "id": "6a4c06aa",
   "metadata": {},
   "outputs": [],
   "source": [
    "l = len(encrypted_text)\n",
    "unigrams = {i: round(encrypted_text.count(i) / l * 100, 3) for i in set(encrypted_text)}"
   ]
  },
  {
   "cell_type": "code",
   "execution_count": 5,
   "id": "1c979f8a",
   "metadata": {},
   "outputs": [
    {
     "data": {
      "text/plain": [
       "[(' ', 17.846),\n",
       " ('Y', 11.077),\n",
       " ('M', 8.615),\n",
       " ('A', 8.308),\n",
       " ('W', 7.692),\n",
       " ('E', 6.769),\n",
       " ('G', 4.308),\n",
       " ('P', 4.0),\n",
       " ('S', 4.0),\n",
       " ('H', 3.692),\n",
       " ('I', 2.769),\n",
       " ('N', 2.154),\n",
       " ('O', 2.154),\n",
       " ('J', 2.154),\n",
       " ('U', 1.846),\n",
       " ('T', 1.846),\n",
       " ('R', 1.538),\n",
       " ('K', 1.538),\n",
       " ('.', 1.231),\n",
       " ('V', 1.231),\n",
       " ('F', 1.231),\n",
       " ('D', 0.923),\n",
       " ('X', 0.923),\n",
       " ('B', 0.615),\n",
       " ('3', 0.308),\n",
       " ('0', 0.308),\n",
       " ('8', 0.308),\n",
       " ('!', 0.308),\n",
       " (',', 0.308)]"
      ]
     },
     "execution_count": 5,
     "metadata": {},
     "output_type": "execute_result"
    }
   ],
   "source": [
    "sorted(unigrams.items(), key = lambda k: k[1], reverse = True)"
   ]
  },
  {
   "cell_type": "code",
   "execution_count": 6,
   "id": "d0be094c",
   "metadata": {},
   "outputs": [],
   "source": [
    "from collections import Counter\n",
    "encrypted_text = encrypted_text.replace(\" \", \"\")"
   ]
  },
  {
   "cell_type": "code",
   "execution_count": 7,
   "id": "6ad9218a",
   "metadata": {},
   "outputs": [
    {
     "data": {
      "text/plain": [
       "<bound method Counter.most_common of Counter({'ME': 14, 'EY': 9, 'YS': 8, 'WA': 7, 'YA': 7, 'EW': 6, 'AM': 6, 'WH': 6, 'EP': 5, 'OY': 5, 'MY': 5, 'IE': 4, 'SY': 4, 'HM': 4, 'MW': 4, 'PJ': 3, 'JO': 3, 'GT': 3, 'TM': 3, 'YI': 3, 'A.': 3, 'PA': 3, 'YW': 3, 'GS': 3, 'WM': 3, 'UW': 3, 'AW': 2, 'TW': 2, 'SA': 2, 'IP': 2, 'PB': 2, 'BY': 2, 'GN': 2, 'PH': 2, 'HA': 2, 'AY': 2, 'YY': 2, 'GM': 2, 'HR': 2, 'AG': 2, 'JY': 2, 'KP': 2, 'AV': 2, 'VW': 2, 'GH': 2, 'YU': 2, 'AA': 2, 'AP': 2, 'FK': 2, 'NM': 2, 'AE': 2, 'YT': 1, 'WS': 1, 'MI': 1, 'SG': 1, '.P': 1, 'AX': 1, 'XG': 1, 'NI': 1, 'Y,': 1, ',M': 1, 'AH': 1, 'HG': 1, 'RG': 1, 'S.': 1, '.A': 1, 'GJ': 1, 'YG': 1, 'YK': 1, 'PM': 1, 'SI': 1, 'WK': 1, 'KK': 1, 'KO': 1, 'YJ': 1, 'JG': 1, 'RM': 1, 'HY': 1, 'Y!': 1, '!M': 1, 'IG': 1, 'GU': 1, 'UY': 1, 'YN': 1, 'NA': 1, 'UT': 1, 'TG': 1, 'SM': 1, 'AJ': 1, 'PR': 1, 'RY': 1, 'WJ': 1, 'JF': 1, 'KY': 1, 'AN': 1, 'NO': 1, 'OA': 1, 'MN': 1, 'WG': 1, 'HI': 1, 'IW': 1, 'WF': 1, 'FE': 1, 'SW': 1, 'HV': 1, 'VE': 1, 'WI': 1, 'EU': 1, 'WR': 1, 'RW': 1, 'MA': 1, 'YO': 1, 'YH': 1, 'WT': 1, 'UO': 1, 'OX': 1, 'X8': 1, '8F': 1, 'PI': 1, 'IY': 1, '.M': 1, 'YF': 1, 'FP': 1, 'VG': 1, 'SU': 1, 'MX': 1, 'XS': 1, 'SR': 1, 'RN': 1, 'N0': 1, '03': 1, '3U': 1, 'WD': 1, 'DD': 1, 'DV': 1, 'EG': 1, 'MM': 1, 'YD': 1, 'DN': 1, 'NG': 1})>"
      ]
     },
     "execution_count": 7,
     "metadata": {},
     "output_type": "execute_result"
    }
   ],
   "source": [
    "bigrams = Counter(encrypted_text[i : i + 2] for i in range(len(encrypted_text) - 1))\n",
    "bigrams.most_common"
   ]
  }
 ],
 "metadata": {
  "kernelspec": {
   "display_name": "Python 3 (ipykernel)",
   "language": "python",
   "name": "python3"
  },
  "language_info": {
   "codemirror_mode": {
    "name": "ipython",
    "version": 3
   },
   "file_extension": ".py",
   "mimetype": "text/x-python",
   "name": "python",
   "nbconvert_exporter": "python",
   "pygments_lexer": "ipython3",
   "version": "3.8.2"
  },
  "varInspector": {
   "cols": {
    "lenName": 16,
    "lenType": 16,
    "lenVar": 40
   },
   "kernels_config": {
    "python": {
     "delete_cmd_postfix": "",
     "delete_cmd_prefix": "del ",
     "library": "var_list.py",
     "varRefreshCmd": "print(var_dic_list())"
    },
    "r": {
     "delete_cmd_postfix": ") ",
     "delete_cmd_prefix": "rm(",
     "library": "var_list.r",
     "varRefreshCmd": "cat(var_dic_list()) "
    }
   },
   "types_to_exclude": [
    "module",
    "function",
    "builtin_function_or_method",
    "instance",
    "_Feature"
   ],
   "window_display": false
  }
 },
 "nbformat": 4,
 "nbformat_minor": 5
}
