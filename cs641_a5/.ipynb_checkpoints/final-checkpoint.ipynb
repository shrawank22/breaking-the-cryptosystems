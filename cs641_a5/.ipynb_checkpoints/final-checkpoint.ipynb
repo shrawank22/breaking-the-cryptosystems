{
 "cells": [
  {
   "cell_type": "code",
   "execution_count": 4,
   "id": "87076cc2",
   "metadata": {
    "ExecuteTime": {
     "end_time": "2022-03-30T17:10:12.119810Z",
     "start_time": "2022-03-30T17:10:09.495296Z"
    }
   },
   "outputs": [
    {
     "name": "stdout",
     "output_type": "stream",
     "text": [
      "Defaulting to user installation because normal site-packages is not writeable\n",
      "Collecting galois\n",
      "  Downloading galois-0.3.3-py3-none-any.whl (4.2 MB)\n",
      "\u001b[2K     \u001b[38;2;114;156;31m━━━━━━━━━━━━━━━━━━━━━━━━━━━━━━━━━━━━━━━━\u001b[0m \u001b[32m4.2/4.2 MB\u001b[0m \u001b[31m2.3 MB/s\u001b[0m eta \u001b[36m0:00:00\u001b[0mm eta \u001b[36m0:00:01\u001b[0m0:01\u001b[0m:01\u001b[0m\n",
      "\u001b[?25hRequirement already satisfied: numpy<1.24,>=1.21.0 in /usr/lib/python3/dist-packages (from galois) (1.21.5)\n",
      "Collecting typing-extensions>=4.0.0\n",
      "  Downloading typing_extensions-4.5.0-py3-none-any.whl (27 kB)\n",
      "Collecting numba<0.57,>=0.55\n",
      "  Downloading numba-0.56.4-cp310-cp310-manylinux2014_x86_64.manylinux_2_17_x86_64.whl (3.5 MB)\n",
      "\u001b[2K     \u001b[38;2;114;156;31m━━━━━━━━━━━━━━━━━━━━━━━━━━━━━━━━━━━━━━━━\u001b[0m \u001b[32m3.5/3.5 MB\u001b[0m \u001b[31m3.0 MB/s\u001b[0m eta \u001b[36m0:00:00\u001b[0mm eta \u001b[36m0:00:01\u001b[0m0:01\u001b[0m:01\u001b[0m\n",
      "\u001b[?25hCollecting llvmlite<0.40,>=0.39.0dev0\n",
      "  Downloading llvmlite-0.39.1-cp310-cp310-manylinux_2_17_x86_64.manylinux2014_x86_64.whl (34.6 MB)\n",
      "\u001b[2K     \u001b[38;2;114;156;31m━━━━━━━━━━━━━━━━━━━━━━━━━━━━━━━━━━━━━━━━\u001b[0m \u001b[32m34.6/34.6 MB\u001b[0m \u001b[31m1.4 MB/s\u001b[0m eta \u001b[36m0:00:00\u001b[0mm eta \u001b[36m0:00:01\u001b[0m[36m0:00:01\u001b[0m\n",
      "\u001b[?25hRequirement already satisfied: setuptools in /usr/lib/python3/dist-packages (from numba<0.57,>=0.55->galois) (59.6.0)\n",
      "Installing collected packages: typing-extensions, llvmlite, numba, galois\n",
      "Successfully installed galois-0.3.3 llvmlite-0.39.1 numba-0.56.4 typing-extensions-4.5.0\n"
     ]
    }
   ],
   "source": [
    "!pip install galois"
   ]
  },
  {
   "cell_type": "code",
   "execution_count": 5,
   "id": "1fbab765",
   "metadata": {},
   "outputs": [],
   "source": [
    "import numpy as np\n",
    "from pyfinite import ffield\n",
    "import galois\n",
    "\n",
    "F = ffield.FField(7, gen=0x83, useLUT=-1)\n",
    "\n",
    "def Exponentiate(base,power):\n",
    "    ans = base\n",
    "    for i in range(1,power):\n",
    "        ans = F.Multiply(ans,base)\n",
    "    return ans\n",
    "\n",
    "\n",
    "def LinearTransform(linmat,msg):\n",
    "    ans = [0]*8\n",
    "    for i in range(8):\n",
    "        temp  = []\n",
    "        mul = [F.Multiply(linmat[i][j],msg[i]) for j in range(8)]\n",
    "        for k in range(8):\n",
    "            temp.append(np.bitwise_xor(ans[k],mul[k]))\n",
    "        ans = temp\n",
    "    return ans"
   ]
  },
  {
   "cell_type": "code",
   "execution_count": 6,
   "id": "0b3ca134",
   "metadata": {
    "ExecuteTime": {
     "end_time": "2022-03-30T17:10:12.135767Z",
     "start_time": "2022-03-30T17:10:12.121803Z"
    }
   },
   "outputs": [],
   "source": [
    "def decode_block(cipher):\n",
    "  plain= \"\"\n",
    "  for i in range(0,len(cipher),2):\n",
    "      plain+=chr(16*(ord(cipher[i:i+2][0]) - ord('f')) + ord(cipher[i:i+2][1]) - ord('f'))\n",
    "  return plain"
   ]
  },
  {
   "cell_type": "code",
   "execution_count": 7,
   "id": "3515a340",
   "metadata": {
    "ExecuteTime": {
     "end_time": "2022-03-30T17:10:46.858693Z",
     "start_time": "2022-03-30T17:10:12.138763Z"
    },
    "scrolled": true
   },
   "outputs": [
    {
     "name": "stdout",
     "output_type": "stream",
     "text": [
      "Possible diagonal values: \n",
      "\n",
      "[[[84, 40, 49], [], [], [], [], [], [], []], [[], [122, 62, 70], [], [], [], [], [], []], [[], [], [119, 43, 5], [], [], [], [], []], [[], [], [], [68, 95, 12], [], [], [], []], [[], [], [], [], [118, 112, 20], [], [], []], [[], [], [], [], [], [51, 11, 53], [], []], [[], [], [], [], [], [], [27, 14], []], [[], [], [], [], [], [], [], [38, 92, 91]]]\n",
      "\n",
      "\n",
      "Possible exponents: \n",
      "\n",
      "[[22, 37, 68], [26, 113, 115], [2, 38, 87], [17, 41, 69], [40, 89, 125], [17, 41, 69], [20, 108], [26, 113, 115]]\n",
      "\n",
      "\n",
      "===========================\n",
      "\n",
      "\n",
      "Diagonal values: \n",
      "\n",
      "[[[84], [112], [], [], [], [], [], []], [[], [70], [30], [], [], [], [], []], [[], [], [43], [13], [], [], [], []], [[], [], [], [12], [112], [], [], []], [[], [], [], [], [112], [99], [], []], [[], [], [], [], [], [11], [93], []], [[], [], [], [], [], [], [27], [24]], [[], [], [], [], [], [], [], [38]]]\n",
      "\n",
      "\n",
      "Exponents: \n",
      "\n",
      "[[22], [115], [38], [69], [89], [41], [20], [26]]\n"
     ]
    }
   ],
   "source": [
    "#for diagonal elements\n",
    "PossibleExponents = [[] for i in range(8)]   \n",
    "possibleDiagonalVals=[[[] for i in range(8)] for j in range(8)]\n",
    "input_file = open('plaintexts.txt','r')\n",
    "output_file = open('ciphertexts.txt','r')\n",
    "input = (input_file.readlines()[0]).strip().split(' ')\n",
    "output = output_file.readlines()\n",
    "\n",
    "input_string = []\n",
    "for msg in input:\n",
    "    input_string.append(decode_block(msg)[0])\n",
    "#print(input_string)\n",
    "#print(len(output))\n",
    "output_string = []\n",
    "for i in range(len(output)):\n",
    "    x = []\n",
    "    for msg in output[i].strip().split(' '):\n",
    "        x.append(decode_block(msg)[i])\n",
    "    output_string.append(x)\n",
    "#print(output_string)\n",
    "for k in range(8):\n",
    "    for i in range(1, 127):\n",
    "        for j in range(1, 128):\n",
    "          flag = True\n",
    "          for m in range(128):\n",
    "            if(ord(output_string[k][m]) != Exponentiate(F.Multiply(Exponentiate(F.Multiply(Exponentiate(ord(input_string[m]), i), j), i), j), i)):\n",
    "              flag = False\n",
    "              break\n",
    "          if(flag):\n",
    "            PossibleExponents[k].append(i)\n",
    "            possibleDiagonalVals[k][k].append(j)\n",
    "print(\"Possible diagonal values: \\n\")\n",
    "print(possibleDiagonalVals)\n",
    "print(\"\\n\\nPossible exponents: \\n\")\n",
    "print(PossibleExponents)\n",
    "\n",
    "\n",
    "output_string = []\n",
    "for i in range(len(output)-1):\n",
    "    x = []\n",
    "    for msg in output[i].strip().split(' '):\n",
    "        x.append(decode_block(msg)[i+1])\n",
    "    output_string.append(x)\n",
    "\n",
    "for ind in range(7):\n",
    "  for i in range(1, 128):\n",
    "      for p1, e1 in zip(PossibleExponents[ind+1], possibleDiagonalVals[ind+1][ind+1]):\n",
    "          for p2, e2 in zip(PossibleExponents[ind], possibleDiagonalVals[ind][ind]):\n",
    "              for k in range(128):\n",
    "                  flag = True\n",
    "                  x1 = F.Multiply(Exponentiate(F.Multiply(Exponentiate(ord(input_string[k]), p2), e2), p2), i)\n",
    "                  x2 = F.Multiply(Exponentiate(F.Multiply(Exponentiate(ord(input_string[k]), p2), i), p1), e1)\n",
    "                  c1 = np.bitwise_xor(x1,x2)\n",
    "                  if(ord(output_string[ind][k]) != Exponentiate(c1,p1)):\n",
    "                      flag = False\n",
    "                      break\n",
    "              if flag:\n",
    "                  PossibleExponents[ind+1] = [p1]\n",
    "                  possibleDiagonalVals[ind+1][ind+1] = [e1]\n",
    "                  PossibleExponents[ind] = [p2]\n",
    "                  possibleDiagonalVals[ind][ind] = [e2]\n",
    "                  possibleDiagonalVals[ind][ind+1] = [i]\n",
    "print('\\n\\n===========================\\n\\n')\n",
    "print(\"Diagonal values: \\n\")\n",
    "print(possibleDiagonalVals)\n",
    "print(\"\\n\\nExponents: \\n\")\n",
    "print(PossibleExponents)\n"
   ]
  },
  {
   "cell_type": "code",
   "execution_count": 8,
   "id": "ff2fe30e",
   "metadata": {
    "ExecuteTime": {
     "end_time": "2022-03-30T17:10:57.960874Z",
     "start_time": "2022-03-30T17:10:46.861685Z"
    },
    "scrolled": true
   },
   "outputs": [
    {
     "name": "stdout",
     "output_type": "stream",
     "text": [
      "Linear Transformation Matrix :\n",
      " [[ 84   0   0   0   0   0   0   0]\n",
      " [112  70   0   0   0   0   0   0]\n",
      " [ 13  30  43   0   0   0   0   0]\n",
      " [102  21  13  12   0   0   0   0]\n",
      " [111  62   0 112 112   0   0   0]\n",
      " [ 19  52  28  45  99  11   0   0]\n",
      " [  8 123  23 103  25  93  27   0]\n",
      " [ 77   3  74  26  18  72  24  38]]\n",
      "\n",
      "\n",
      "\n",
      "Exponent Vector : \n",
      " [22, 115, 38, 69, 89, 41, 20, 26]\n"
     ]
    }
   ],
   "source": [
    "def EAEAE (msg, lin_mat, exp_mat):\n",
    "  msg = [ord(m) for m in msg]\n",
    "  res = [Exponentiate(msg[i], exp_mat[i]) for i in range(8)]\n",
    "  res = LinearTransform(lin_mat, res)\n",
    "  res = [Exponentiate(res[i], exp_mat[i]) for i in range(8)]\n",
    "  res = LinearTransform(lin_mat, res)\n",
    "  res = [Exponentiate(res[i], exp_mat[i]) for i in range(8)]\n",
    "  return res\n",
    "\n",
    "\n",
    "input_file = open('plaintexts.txt','r')\n",
    "output_file = open('ciphertexts.txt','r')\n",
    "input = input_file.readlines()\n",
    "output = output_file.readlines()\n",
    "\n",
    "\n",
    "input_string = []\n",
    "for i in range(len(input)):\n",
    "    x = []\n",
    "    for msg in input[i].strip().split(' '):\n",
    "        x.append(decode_block(msg))\n",
    "    input_string.append(x)\n",
    "\n",
    "\n",
    "output_string = []\n",
    "for i in range(len(output)):\n",
    "    x = []\n",
    "    for msg in output[i].strip().split(' '):\n",
    "        x.append(decode_block(msg))\n",
    "    output_string.append(x)\n",
    "\n",
    "for indexex in range(0,6):\n",
    "    offset = indexex + 2\n",
    "    \n",
    "    exp_list = [e[0] for e in PossibleExponents]\n",
    "    lin_trans_list = np.zeros((8,8),int)\n",
    "\n",
    "    for i in range(8):\n",
    "      for j in range(8):     \n",
    "        if(len(possibleDiagonalVals[i][j]) != 0):\n",
    "            lin_trans_list[i][j] = possibleDiagonalVals[i][j][0]\n",
    "        else:\n",
    "            lin_trans_list[i][j] = 0\n",
    "    \n",
    "    for index in range(8):\n",
    "        if(index > (7-offset)):\n",
    "            continue\n",
    "\n",
    "        for i in range(127):\n",
    "            lin_trans_list[index][index+offset] = i+1\n",
    "            flag = True\n",
    "            for inps, outs in zip(input_string[index], output_string[index]):\n",
    "                x1 = EAEAE(inps, lin_trans_list, exp_list)[index+offset]\n",
    "                x2 = outs[index+offset]\n",
    "                if x1 != ord(x2):\n",
    "                    flag = False\n",
    "                    break\n",
    "            if flag==True:\n",
    "                possibleDiagonalVals[index][index+offset] = [i+1]\n",
    "                \n",
    "A = np.zeros((8,8),dtype='int')\n",
    "\n",
    "for i in range(0,8):\n",
    "    for j in range(0,8):\n",
    "      if len(possibleDiagonalVals[j][i]) != 0:\n",
    "       A[i][j] = possibleDiagonalVals[j][i][0]\n",
    "\n",
    "\n",
    "\n",
    "E = exp_list\n",
    "\n",
    "print('Linear Transformation Matrix :\\n',A)\n",
    "print('\\n\\n')\n",
    "print('Exponent Vector : \\n',E)"
   ]
  },
  {
   "cell_type": "code",
   "execution_count": 9,
   "id": "b48659d1",
   "metadata": {
    "ExecuteTime": {
     "end_time": "2022-03-30T17:10:59.189160Z",
     "start_time": "2022-03-30T17:10:57.963867Z"
    }
   },
   "outputs": [],
   "source": [
    "Einverse = np.zeros((128, 128), dtype = int)\n",
    "\n",
    "for base in range(0,128):\n",
    "    temp = 1\n",
    "    for power in range(1,127):\n",
    "        result = F.Multiply(temp, base)\n",
    "        Einverse[power][result] = base\n",
    "        temp = result\n",
    "    \n",
    "GF = galois.GF(2**7)\n",
    "A = GF(A)\n",
    "invA = np.linalg.inv(A)"
   ]
  },
  {
   "cell_type": "code",
   "execution_count": 6,
   "id": "proud-shore",
   "metadata": {
    "ExecuteTime": {
     "end_time": "2022-03-30T17:10:59.266953Z",
     "start_time": "2022-03-30T17:10:59.191155Z"
    }
   },
   "outputs": [
    {
     "name": "stdout",
     "output_type": "stream",
     "text": [
      "Password is vtokdpmweo000000\n"
     ]
    }
   ],
   "source": [
    "password = \"gsfojqmpfulkjthkfkgtjqgrjilflngj\" #Encrypted password\n",
    "GF = galois.GF(2**7)\n",
    "\n",
    "def Einv(block, E):\n",
    "    return [Einverse[E[i]][block[i]] for i in range(8) ]\n",
    "\n",
    "def Ainv(block, A):\n",
    "    block = GF(block)\n",
    "    A = GF(A)\n",
    "    return np.matmul(A,block)\n",
    "\n",
    "decrypted_password = \"\"\n",
    "for i in range(0,2): \n",
    "    elements = password[16*i:16*(i+1)]\n",
    "    currentBlock = []\n",
    "    for j in range(0,15,2):\n",
    "        currentBlock+=[(ord(elements[j]) - ord('f'))*16 + (ord(elements[j+1]) - ord('f'))]\n",
    "    EAEAE = Einv(Ainv(Einv(Ainv(Einv(currentBlock, E), invA),E), invA),E)\n",
    "    for ch in EAEAE:\n",
    "        decrypted_password += chr(ch)\n",
    "    \n",
    "print(\"Password is\",decrypted_password)\n",
    "    "
   ]
  }
 ],
 "metadata": {
  "kernelspec": {
   "display_name": "Python 3 (ipykernel)",
   "language": "python",
   "name": "python3"
  },
  "language_info": {
   "codemirror_mode": {
    "name": "ipython",
    "version": 3
   },
   "file_extension": ".py",
   "mimetype": "text/x-python",
   "name": "python",
   "nbconvert_exporter": "python",
   "pygments_lexer": "ipython3",
   "version": "3.10.6"
  },
  "varInspector": {
   "cols": {
    "lenName": 16,
    "lenType": 16,
    "lenVar": 40
   },
   "kernels_config": {
    "python": {
     "delete_cmd_postfix": "",
     "delete_cmd_prefix": "del ",
     "library": "var_list.py",
     "varRefreshCmd": "print(var_dic_list())"
    },
    "r": {
     "delete_cmd_postfix": ") ",
     "delete_cmd_prefix": "rm(",
     "library": "var_list.r",
     "varRefreshCmd": "cat(var_dic_list()) "
    }
   },
   "types_to_exclude": [
    "module",
    "function",
    "builtin_function_or_method",
    "instance",
    "_Feature"
   ],
   "window_display": false
  }
 },
 "nbformat": 4,
 "nbformat_minor": 5
}
