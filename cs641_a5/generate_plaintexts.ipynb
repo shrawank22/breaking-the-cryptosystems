{
 "cells": [
  {
   "cell_type": "code",
   "execution_count": 1,
   "id": "1314cb19",
   "metadata": {},
   "outputs": [],
   "source": [
    "import numpy as np"
   ]
  },
  {
   "cell_type": "code",
   "execution_count": 2,
   "id": "17c71ede",
   "metadata": {},
   "outputs": [
    {
     "name": "stdout",
     "output_type": "stream",
     "text": [
      "{'0000': 'f', '0001': 'g', '0010': 'h', '0011': 'i', '0100': 'j', '0101': 'k', '0110': 'l', '0111': 'm', '1000': 'n', '1001': 'o', '1010': 'p', '1011': 'q', '1100': 'r', '1101': 's', '1110': 't', '1111': 'u'}\n"
     ]
    }
   ],
   "source": [
    "chars=\"fghijklmnopqrstu\"\n",
    "char_dict={}\n",
    "for j in range(16):\n",
    "    char_dict[str(np.binary_repr(j, width=4))]=chars[j]\n",
    "print(char_dict)"
   ]
  },
  {
   "cell_type": "code",
   "execution_count": 3,
   "id": "2af45a08",
   "metadata": {},
   "outputs": [],
   "source": [
    "file = open(\"plaintexts.txt\",\"w+\")\n",
    "\n",
    "for i in range(8):\n",
    "    for j in range(128):\n",
    "        binary = np.binary_repr(j, width=8)\n",
    "        plaintext = 'ff'*i + char_dict[binary[:4]] + char_dict[binary[4:]] + 'ff'*(8-i-1)\n",
    "        file.write(plaintext)\n",
    "        file.write(\" \")\n",
    "    file.write(\"\\n\")\n",
    "file.close()"
   ]
  },
  {
   "cell_type": "code",
   "execution_count": null,
   "id": "85235b92",
   "metadata": {},
   "outputs": [],
   "source": []
  }
 ],
 "metadata": {
  "kernelspec": {
   "display_name": "Python 3 (ipykernel)",
   "language": "python",
   "name": "python3"
  },
  "language_info": {
   "codemirror_mode": {
    "name": "ipython",
    "version": 3
   },
   "file_extension": ".py",
   "mimetype": "text/x-python",
   "name": "python",
   "nbconvert_exporter": "python",
   "pygments_lexer": "ipython3",
   "version": "3.10.6"
  }
 },
 "nbformat": 4,
 "nbformat_minor": 5
}
